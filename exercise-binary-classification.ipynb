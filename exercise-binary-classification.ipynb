{
 "cells": [
  {
   "cell_type": "markdown",
   "id": "55670501",
   "metadata": {
    "papermill": {
     "duration": 0.004944,
     "end_time": "2023-06-01T15:14:06.597331",
     "exception": false,
     "start_time": "2023-06-01T15:14:06.592387",
     "status": "completed"
    },
    "tags": []
   },
   "source": [
    "**This notebook is an exercise in the [Intro to Deep Learning](https://www.kaggle.com/learn/intro-to-deep-learning) course.  You can reference the tutorial at [this link](https://www.kaggle.com/ryanholbrook/binary-classification).**\n",
    "\n",
    "---\n"
   ]
  },
  {
   "cell_type": "markdown",
   "id": "0329c81f",
   "metadata": {
    "papermill": {
     "duration": 0.004036,
     "end_time": "2023-06-01T15:14:06.606136",
     "exception": false,
     "start_time": "2023-06-01T15:14:06.602100",
     "status": "completed"
    },
    "tags": []
   },
   "source": [
    "# Introduction #\n",
    "\n",
    "In this exercise, you'll build a model to predict hotel cancellations with a binary classifier."
   ]
  },
  {
   "cell_type": "code",
   "execution_count": 1,
   "id": "f9f089ed",
   "metadata": {
    "execution": {
     "iopub.execute_input": "2023-06-01T15:14:06.617100Z",
     "iopub.status.busy": "2023-06-01T15:14:06.616316Z",
     "iopub.status.idle": "2023-06-01T15:14:06.656251Z",
     "shell.execute_reply": "2023-06-01T15:14:06.655339Z"
    },
    "lines_to_next_cell": 0,
    "papermill": {
     "duration": 0.048544,
     "end_time": "2023-06-01T15:14:06.658917",
     "exception": false,
     "start_time": "2023-06-01T15:14:06.610373",
     "status": "completed"
    },
    "tags": []
   },
   "outputs": [
    {
     "name": "stderr",
     "output_type": "stream",
     "text": [
      "/tmp/ipykernel_23/3338970720.py:3: MatplotlibDeprecationWarning: The seaborn styles shipped by Matplotlib are deprecated since 3.6, as they no longer correspond to the styles shipped by seaborn. However, they will remain available as 'seaborn-v0_8-<style>'. Alternatively, directly use the seaborn API instead.\n",
      "  plt.style.use('seaborn-whitegrid')\n"
     ]
    }
   ],
   "source": [
    "# Setup plotting\n",
    "import matplotlib.pyplot as plt\n",
    "plt.style.use('seaborn-whitegrid')\n",
    "# Set Matplotlib defaults\n",
    "plt.rc('figure', autolayout=True)\n",
    "plt.rc('axes', labelweight='bold', labelsize='large',\n",
    "       titleweight='bold', titlesize=18, titlepad=10)\n",
    "plt.rc('animation', html='html5')\n",
    "\n",
    "# Setup feedback system\n",
    "from learntools.core import binder\n",
    "binder.bind(globals())\n",
    "from learntools.deep_learning_intro.ex6 import *"
   ]
  },
  {
   "cell_type": "markdown",
   "id": "50b9b095",
   "metadata": {
    "papermill": {
     "duration": 0.004404,
     "end_time": "2023-06-01T15:14:06.667826",
     "exception": false,
     "start_time": "2023-06-01T15:14:06.663422",
     "status": "completed"
    },
    "tags": []
   },
   "source": [
    "First, load the *Hotel Cancellations* dataset."
   ]
  },
  {
   "cell_type": "code",
   "execution_count": 2,
   "id": "377603b4",
   "metadata": {
    "execution": {
     "iopub.execute_input": "2023-06-01T15:14:06.677736Z",
     "iopub.status.busy": "2023-06-01T15:14:06.677458Z",
     "iopub.status.idle": "2023-06-01T15:14:09.268133Z",
     "shell.execute_reply": "2023-06-01T15:14:09.267158Z"
    },
    "lines_to_next_cell": 2,
    "papermill": {
     "duration": 2.598446,
     "end_time": "2023-06-01T15:14:09.270591",
     "exception": false,
     "start_time": "2023-06-01T15:14:06.672145",
     "status": "completed"
    },
    "tags": []
   },
   "outputs": [],
   "source": [
    "import pandas as pd\n",
    "\n",
    "from sklearn.model_selection import train_test_split\n",
    "from sklearn.preprocessing import StandardScaler, OneHotEncoder\n",
    "from sklearn.impute import SimpleImputer\n",
    "from sklearn.pipeline import make_pipeline\n",
    "from sklearn.compose import make_column_transformer\n",
    "\n",
    "hotel = pd.read_csv('../input/dl-course-data/hotel.csv')\n",
    "\n",
    "X = hotel.copy()\n",
    "y = X.pop('is_canceled')\n",
    "\n",
    "X['arrival_date_month'] = \\\n",
    "    X['arrival_date_month'].map(\n",
    "        {'January':1, 'February': 2, 'March':3,\n",
    "         'April':4, 'May':5, 'June':6, 'July':7,\n",
    "         'August':8, 'September':9, 'October':10,\n",
    "         'November':11, 'December':12}\n",
    "    )\n",
    "\n",
    "features_num = [\n",
    "    \"lead_time\", \"arrival_date_week_number\",\n",
    "    \"arrival_date_day_of_month\", \"stays_in_weekend_nights\",\n",
    "    \"stays_in_week_nights\", \"adults\", \"children\", \"babies\",\n",
    "    \"is_repeated_guest\", \"previous_cancellations\",\n",
    "    \"previous_bookings_not_canceled\", \"required_car_parking_spaces\",\n",
    "    \"total_of_special_requests\", \"adr\",\n",
    "]\n",
    "features_cat = [\n",
    "    \"hotel\", \"arrival_date_month\", \"meal\",\n",
    "    \"market_segment\", \"distribution_channel\",\n",
    "    \"reserved_room_type\", \"deposit_type\", \"customer_type\",\n",
    "]\n",
    "\n",
    "transformer_num = make_pipeline(\n",
    "    SimpleImputer(strategy=\"constant\"), # there are a few missing values\n",
    "    StandardScaler(),\n",
    ")\n",
    "transformer_cat = make_pipeline(\n",
    "    SimpleImputer(strategy=\"constant\", fill_value=\"NA\"),\n",
    "    OneHotEncoder(handle_unknown='ignore'),\n",
    ")\n",
    "\n",
    "preprocessor = make_column_transformer(\n",
    "    (transformer_num, features_num),\n",
    "    (transformer_cat, features_cat),\n",
    ")\n",
    "\n",
    "# stratify - make sure classes are evenlly represented across splits\n",
    "X_train, X_valid, y_train, y_valid = \\\n",
    "    train_test_split(X, y, stratify=y, train_size=0.75)\n",
    "\n",
    "X_train = preprocessor.fit_transform(X_train)\n",
    "X_valid = preprocessor.transform(X_valid)\n",
    "\n",
    "input_shape = [X_train.shape[1]]"
   ]
  },
  {
   "cell_type": "markdown",
   "id": "cfabeb90",
   "metadata": {
    "papermill": {
     "duration": 0.0043,
     "end_time": "2023-06-01T15:14:09.279698",
     "exception": false,
     "start_time": "2023-06-01T15:14:09.275398",
     "status": "completed"
    },
    "tags": []
   },
   "source": [
    "# 1) Define Model #\n",
    "\n",
    "The model we'll use this time will have both batch normalization and dropout layers. To ease reading we've broken the diagram into blocks, but you can define it layer by layer as usual.\n",
    "\n",
    "Define a model with an architecture given by this diagram:\n",
    "\n",
    "<figure style=\"padding: 1em;\">\n",
    "<img src=\"https://storage.googleapis.com/kaggle-media/learn/images/V04o59Z.png\" width=\"400\" alt=\"Diagram of network architecture: BatchNorm, Dense, BatchNorm, Dropout, Dense, BatchNorm, Dropout, Dense.\">\n",
    "<figcaption style=\"textalign: center; font-style: italic\"><center>Diagram of a binary classifier.</center></figcaption>\n",
    "</figure>\n"
   ]
  },
  {
   "cell_type": "code",
   "execution_count": 3,
   "id": "7e2a6143",
   "metadata": {
    "execution": {
     "iopub.execute_input": "2023-06-01T15:14:09.291146Z",
     "iopub.status.busy": "2023-06-01T15:14:09.289632Z",
     "iopub.status.idle": "2023-06-01T15:14:18.794952Z",
     "shell.execute_reply": "2023-06-01T15:14:18.794009Z"
    },
    "lines_to_next_cell": 2,
    "papermill": {
     "duration": 9.512964,
     "end_time": "2023-06-01T15:14:18.797052",
     "exception": false,
     "start_time": "2023-06-01T15:14:09.284088",
     "status": "completed"
    },
    "tags": []
   },
   "outputs": [
    {
     "name": "stderr",
     "output_type": "stream",
     "text": [
      "/opt/conda/lib/python3.10/site-packages/tensorflow_io/python/ops/__init__.py:98: UserWarning: unable to load libtensorflow_io_plugins.so: unable to open file: libtensorflow_io_plugins.so, from paths: ['/opt/conda/lib/python3.10/site-packages/tensorflow_io/python/ops/libtensorflow_io_plugins.so']\n",
      "caused by: ['/opt/conda/lib/python3.10/site-packages/tensorflow_io/python/ops/libtensorflow_io_plugins.so: undefined symbol: _ZN3tsl6StatusC1EN10tensorflow5error4CodeESt17basic_string_viewIcSt11char_traitsIcEENS_14SourceLocationE']\n",
      "  warnings.warn(f\"unable to load libtensorflow_io_plugins.so: {e}\")\n",
      "/opt/conda/lib/python3.10/site-packages/tensorflow_io/python/ops/__init__.py:104: UserWarning: file system plugins are not loaded: unable to open file: libtensorflow_io.so, from paths: ['/opt/conda/lib/python3.10/site-packages/tensorflow_io/python/ops/libtensorflow_io.so']\n",
      "caused by: ['/opt/conda/lib/python3.10/site-packages/tensorflow_io/python/ops/libtensorflow_io.so: undefined symbol: _ZTVN10tensorflow13GcsFileSystemE']\n",
      "  warnings.warn(f\"file system plugins are not loaded: {e}\")\n"
     ]
    },
    {
     "data": {
      "application/javascript": [
       "parent.postMessage({\"jupyterEvent\": \"custom.exercise_interaction\", \"data\": {\"outcomeType\": 1, \"valueTowardsCompletion\": 0.3333333333333333, \"interactionType\": 1, \"questionType\": 2, \"questionId\": \"1_Q1\", \"learnToolsVersion\": \"0.3.4\", \"failureMessage\": \"\", \"exceptionClass\": \"\", \"trace\": \"\"}}, \"*\")"
      ],
      "text/plain": [
       "<IPython.core.display.Javascript object>"
      ]
     },
     "metadata": {},
     "output_type": "display_data"
    },
    {
     "data": {
      "text/markdown": [
       "<span style=\"color:#33cc33\">Correct</span>"
      ],
      "text/plain": [
       "Correct"
      ]
     },
     "metadata": {},
     "output_type": "display_data"
    }
   ],
   "source": [
    "from tensorflow import keras\n",
    "from tensorflow.keras import layers\n",
    "\n",
    "# YOUR CODE HERE: define the model given in the diagram\n",
    "model = keras.Sequential(\n",
    "[\n",
    "    layers.BatchNormalization(input_shape=input_shape),\n",
    "    layers.Dense(units=256,activation='relu'),\n",
    "    layers.BatchNormalization(),\n",
    "    layers.Dropout(.3),\n",
    "    layers.Dense(units=256,activation='relu'),\n",
    "    layers.BatchNormalization(),\n",
    "    layers.Dropout(.3),\n",
    "    layers.Dense(units=1,activation='sigmoid')\n",
    "]\n",
    ")\n",
    "\n",
    "# Check your answer\n",
    "q_1.check()"
   ]
  },
  {
   "cell_type": "code",
   "execution_count": 4,
   "id": "aac2f0f0",
   "metadata": {
    "execution": {
     "iopub.execute_input": "2023-06-01T15:14:18.809303Z",
     "iopub.status.busy": "2023-06-01T15:14:18.808027Z",
     "iopub.status.idle": "2023-06-01T15:14:18.816845Z",
     "shell.execute_reply": "2023-06-01T15:14:18.815993Z"
    },
    "papermill": {
     "duration": 0.016911,
     "end_time": "2023-06-01T15:14:18.819031",
     "exception": false,
     "start_time": "2023-06-01T15:14:18.802120",
     "status": "completed"
    },
    "tags": []
   },
   "outputs": [
    {
     "data": {
      "application/javascript": [
       "parent.postMessage({\"jupyterEvent\": \"custom.exercise_interaction\", \"data\": {\"interactionType\": 3, \"questionType\": 2, \"questionId\": \"1_Q1\", \"learnToolsVersion\": \"0.3.4\", \"valueTowardsCompletion\": 0.0, \"failureMessage\": \"\", \"exceptionClass\": \"\", \"trace\": \"\", \"outcomeType\": 4}}, \"*\")"
      ],
      "text/plain": [
       "<IPython.core.display.Javascript object>"
      ]
     },
     "metadata": {},
     "output_type": "display_data"
    },
    {
     "data": {
      "text/markdown": [
       "<span style=\"color:#33cc99\">Solution:</span> \n",
       "```python\n",
       "\n",
       "from tensorflow import keras\n",
       "from tensorflow.keras import layers\n",
       "\n",
       "model = keras.Sequential([\n",
       "    layers.BatchNormalization(input_shape=input_shape),\n",
       "    layers.Dense(256, activation='relu'),\n",
       "    layers.BatchNormalization(),\n",
       "    layers.Dropout(0.3),\n",
       "    layers.Dense(256, activation='relu'),\n",
       "    layers.BatchNormalization(),\n",
       "    layers.Dropout(0.3),\n",
       "    layers.Dense(1, activation='sigmoid'),\n",
       "])\n",
       "q_1.assert_check_passed()\n",
       "\n",
       "```"
      ],
      "text/plain": [
       "Solution: \n",
       "```python\n",
       "\n",
       "from tensorflow import keras\n",
       "from tensorflow.keras import layers\n",
       "\n",
       "model = keras.Sequential([\n",
       "    layers.BatchNormalization(input_shape=input_shape),\n",
       "    layers.Dense(256, activation='relu'),\n",
       "    layers.BatchNormalization(),\n",
       "    layers.Dropout(0.3),\n",
       "    layers.Dense(256, activation='relu'),\n",
       "    layers.BatchNormalization(),\n",
       "    layers.Dropout(0.3),\n",
       "    layers.Dense(1, activation='sigmoid'),\n",
       "])\n",
       "q_1.assert_check_passed()\n",
       "\n",
       "```"
      ]
     },
     "metadata": {},
     "output_type": "display_data"
    }
   ],
   "source": [
    "q_1.solution()"
   ]
  },
  {
   "cell_type": "markdown",
   "id": "7cb255d7",
   "metadata": {
    "papermill": {
     "duration": 0.004937,
     "end_time": "2023-06-01T15:14:18.829147",
     "exception": false,
     "start_time": "2023-06-01T15:14:18.824210",
     "status": "completed"
    },
    "tags": []
   },
   "source": [
    "# 2) Add Optimizer, Loss, and Metric #\n",
    "\n",
    "Now compile the model with the Adam optimizer and binary versions of the cross-entropy loss and accuracy metric."
   ]
  },
  {
   "cell_type": "code",
   "execution_count": 5,
   "id": "5fcb262a",
   "metadata": {
    "execution": {
     "iopub.execute_input": "2023-06-01T15:14:18.840634Z",
     "iopub.status.busy": "2023-06-01T15:14:18.840314Z",
     "iopub.status.idle": "2023-06-01T15:14:18.862345Z",
     "shell.execute_reply": "2023-06-01T15:14:18.861292Z"
    },
    "lines_to_next_cell": 0,
    "papermill": {
     "duration": 0.030286,
     "end_time": "2023-06-01T15:14:18.864528",
     "exception": false,
     "start_time": "2023-06-01T15:14:18.834242",
     "status": "completed"
    },
    "tags": []
   },
   "outputs": [
    {
     "data": {
      "application/javascript": [
       "parent.postMessage({\"jupyterEvent\": \"custom.exercise_interaction\", \"data\": {\"outcomeType\": 1, \"valueTowardsCompletion\": 0.3333333333333333, \"interactionType\": 1, \"questionType\": 2, \"questionId\": \"2_Q2\", \"learnToolsVersion\": \"0.3.4\", \"failureMessage\": \"\", \"exceptionClass\": \"\", \"trace\": \"\"}}, \"*\")"
      ],
      "text/plain": [
       "<IPython.core.display.Javascript object>"
      ]
     },
     "metadata": {},
     "output_type": "display_data"
    },
    {
     "data": {
      "text/markdown": [
       "<span style=\"color:#33cc33\">Correct</span>"
      ],
      "text/plain": [
       "Correct"
      ]
     },
     "metadata": {},
     "output_type": "display_data"
    }
   ],
   "source": [
    "# YOUR CODE HERE\n",
    "model.compile(\n",
    "loss='binary_crossentropy',\n",
    "optimizer='adam',\n",
    "metrics=['binary_accuracy']\n",
    ")\n",
    "\n",
    "# Check your answer\n",
    "q_2.check()"
   ]
  },
  {
   "cell_type": "code",
   "execution_count": 6,
   "id": "3ed17663",
   "metadata": {
    "execution": {
     "iopub.execute_input": "2023-06-01T15:14:18.876976Z",
     "iopub.status.busy": "2023-06-01T15:14:18.876694Z",
     "iopub.status.idle": "2023-06-01T15:14:18.886176Z",
     "shell.execute_reply": "2023-06-01T15:14:18.885207Z"
    },
    "lines_to_next_cell": 0,
    "papermill": {
     "duration": 0.018211,
     "end_time": "2023-06-01T15:14:18.888101",
     "exception": false,
     "start_time": "2023-06-01T15:14:18.869890",
     "status": "completed"
    },
    "tags": []
   },
   "outputs": [
    {
     "data": {
      "application/javascript": [
       "parent.postMessage({\"jupyterEvent\": \"custom.exercise_interaction\", \"data\": {\"interactionType\": 3, \"questionType\": 2, \"questionId\": \"2_Q2\", \"learnToolsVersion\": \"0.3.4\", \"valueTowardsCompletion\": 0.0, \"failureMessage\": \"\", \"exceptionClass\": \"\", \"trace\": \"\", \"outcomeType\": 4}}, \"*\")"
      ],
      "text/plain": [
       "<IPython.core.display.Javascript object>"
      ]
     },
     "metadata": {},
     "output_type": "display_data"
    },
    {
     "data": {
      "text/markdown": [
       "<span style=\"color:#33cc99\">Solution:</span> \n",
       "```python\n",
       "\n",
       "model.compile(\n",
       "    optimizer='adam',\n",
       "    loss='binary_crossentropy',\n",
       "    metrics=['binary_accuracy'],\n",
       ")\n",
       "\n",
       "```"
      ],
      "text/plain": [
       "Solution: \n",
       "```python\n",
       "\n",
       "model.compile(\n",
       "    optimizer='adam',\n",
       "    loss='binary_crossentropy',\n",
       "    metrics=['binary_accuracy'],\n",
       ")\n",
       "\n",
       "```"
      ]
     },
     "metadata": {},
     "output_type": "display_data"
    }
   ],
   "source": [
    "# Lines below will give you a hint or solution code\n",
    "#q_2.hint()\n",
    "q_2.solution()"
   ]
  },
  {
   "cell_type": "markdown",
   "id": "bca26020",
   "metadata": {
    "papermill": {
     "duration": 0.005416,
     "end_time": "2023-06-01T15:14:18.899182",
     "exception": false,
     "start_time": "2023-06-01T15:14:18.893766",
     "status": "completed"
    },
    "tags": []
   },
   "source": [
    "Finally, run this cell to train the model and view the learning curves. It may run for around 60 to 70 epochs, which could take a minute or two."
   ]
  },
  {
   "cell_type": "code",
   "execution_count": 7,
   "id": "9146f844",
   "metadata": {
    "execution": {
     "iopub.execute_input": "2023-06-01T15:14:18.911960Z",
     "iopub.status.busy": "2023-06-01T15:14:18.911206Z",
     "iopub.status.idle": "2023-06-01T15:15:14.473009Z",
     "shell.execute_reply": "2023-06-01T15:15:14.472031Z"
    },
    "papermill": {
     "duration": 55.570418,
     "end_time": "2023-06-01T15:15:14.475141",
     "exception": false,
     "start_time": "2023-06-01T15:14:18.904723",
     "status": "completed"
    },
    "tags": []
   },
   "outputs": [
    {
     "name": "stdout",
     "output_type": "stream",
     "text": [
      "Epoch 1/200\n",
      "175/175 [==============================] - 7s 7ms/step - loss: 0.4791 - binary_accuracy: 0.7723 - val_loss: 0.4320 - val_binary_accuracy: 0.8002\n",
      "Epoch 2/200\n",
      "175/175 [==============================] - 1s 6ms/step - loss: 0.4241 - binary_accuracy: 0.8003 - val_loss: 0.4005 - val_binary_accuracy: 0.8142\n",
      "Epoch 3/200\n",
      "175/175 [==============================] - 1s 6ms/step - loss: 0.4095 - binary_accuracy: 0.8069 - val_loss: 0.3895 - val_binary_accuracy: 0.8176\n",
      "Epoch 4/200\n",
      "175/175 [==============================] - 1s 6ms/step - loss: 0.4018 - binary_accuracy: 0.8119 - val_loss: 0.3882 - val_binary_accuracy: 0.8189\n",
      "Epoch 5/200\n",
      "175/175 [==============================] - 1s 7ms/step - loss: 0.3972 - binary_accuracy: 0.8147 - val_loss: 0.3820 - val_binary_accuracy: 0.8222\n",
      "Epoch 6/200\n",
      "175/175 [==============================] - 1s 6ms/step - loss: 0.3916 - binary_accuracy: 0.8175 - val_loss: 0.3792 - val_binary_accuracy: 0.8242\n",
      "Epoch 7/200\n",
      "175/175 [==============================] - 1s 6ms/step - loss: 0.3891 - binary_accuracy: 0.8186 - val_loss: 0.3797 - val_binary_accuracy: 0.8245\n",
      "Epoch 8/200\n",
      "175/175 [==============================] - 1s 6ms/step - loss: 0.3861 - binary_accuracy: 0.8203 - val_loss: 0.3724 - val_binary_accuracy: 0.8265\n",
      "Epoch 9/200\n",
      "175/175 [==============================] - 1s 6ms/step - loss: 0.3814 - binary_accuracy: 0.8229 - val_loss: 0.3703 - val_binary_accuracy: 0.8298\n",
      "Epoch 10/200\n",
      "175/175 [==============================] - 1s 6ms/step - loss: 0.3788 - binary_accuracy: 0.8231 - val_loss: 0.3682 - val_binary_accuracy: 0.8313\n",
      "Epoch 11/200\n",
      "175/175 [==============================] - 1s 6ms/step - loss: 0.3761 - binary_accuracy: 0.8259 - val_loss: 0.3684 - val_binary_accuracy: 0.8297\n",
      "Epoch 12/200\n",
      "175/175 [==============================] - 1s 6ms/step - loss: 0.3742 - binary_accuracy: 0.8259 - val_loss: 0.3633 - val_binary_accuracy: 0.8337\n",
      "Epoch 13/200\n",
      "175/175 [==============================] - 1s 6ms/step - loss: 0.3711 - binary_accuracy: 0.8279 - val_loss: 0.3615 - val_binary_accuracy: 0.8324\n",
      "Epoch 14/200\n",
      "175/175 [==============================] - 1s 6ms/step - loss: 0.3689 - binary_accuracy: 0.8286 - val_loss: 0.3613 - val_binary_accuracy: 0.8338\n",
      "Epoch 15/200\n",
      "175/175 [==============================] - 1s 7ms/step - loss: 0.3686 - binary_accuracy: 0.8295 - val_loss: 0.3611 - val_binary_accuracy: 0.8342\n",
      "Epoch 16/200\n",
      "175/175 [==============================] - 1s 6ms/step - loss: 0.3664 - binary_accuracy: 0.8308 - val_loss: 0.3593 - val_binary_accuracy: 0.8355\n",
      "Epoch 17/200\n",
      "175/175 [==============================] - 1s 6ms/step - loss: 0.3643 - binary_accuracy: 0.8323 - val_loss: 0.3590 - val_binary_accuracy: 0.8342\n",
      "Epoch 18/200\n",
      "175/175 [==============================] - 1s 6ms/step - loss: 0.3631 - binary_accuracy: 0.8325 - val_loss: 0.3574 - val_binary_accuracy: 0.8353\n",
      "Epoch 19/200\n",
      "175/175 [==============================] - 1s 6ms/step - loss: 0.3621 - binary_accuracy: 0.8331 - val_loss: 0.3577 - val_binary_accuracy: 0.8338\n",
      "Epoch 20/200\n",
      "175/175 [==============================] - 1s 6ms/step - loss: 0.3596 - binary_accuracy: 0.8340 - val_loss: 0.3563 - val_binary_accuracy: 0.8365\n",
      "Epoch 21/200\n",
      "175/175 [==============================] - 1s 6ms/step - loss: 0.3579 - binary_accuracy: 0.8349 - val_loss: 0.3552 - val_binary_accuracy: 0.8366\n",
      "Epoch 22/200\n",
      "175/175 [==============================] - 1s 6ms/step - loss: 0.3573 - binary_accuracy: 0.8351 - val_loss: 0.3533 - val_binary_accuracy: 0.8389\n",
      "Epoch 23/200\n",
      "175/175 [==============================] - 1s 6ms/step - loss: 0.3558 - binary_accuracy: 0.8354 - val_loss: 0.3546 - val_binary_accuracy: 0.8388\n",
      "Epoch 24/200\n",
      "175/175 [==============================] - 1s 6ms/step - loss: 0.3545 - binary_accuracy: 0.8365 - val_loss: 0.3546 - val_binary_accuracy: 0.8384\n",
      "Epoch 25/200\n",
      "175/175 [==============================] - 1s 6ms/step - loss: 0.3536 - binary_accuracy: 0.8380 - val_loss: 0.3531 - val_binary_accuracy: 0.8385\n",
      "Epoch 26/200\n",
      "175/175 [==============================] - 1s 7ms/step - loss: 0.3519 - binary_accuracy: 0.8376 - val_loss: 0.3526 - val_binary_accuracy: 0.8380\n",
      "Epoch 27/200\n",
      "175/175 [==============================] - 1s 8ms/step - loss: 0.3501 - binary_accuracy: 0.8376 - val_loss: 0.3511 - val_binary_accuracy: 0.8390\n",
      "Epoch 28/200\n",
      "175/175 [==============================] - 1s 6ms/step - loss: 0.3498 - binary_accuracy: 0.8394 - val_loss: 0.3502 - val_binary_accuracy: 0.8401\n",
      "Epoch 29/200\n",
      "175/175 [==============================] - 1s 6ms/step - loss: 0.3487 - binary_accuracy: 0.8387 - val_loss: 0.3496 - val_binary_accuracy: 0.8382\n",
      "Epoch 30/200\n",
      "175/175 [==============================] - 1s 6ms/step - loss: 0.3471 - binary_accuracy: 0.8397 - val_loss: 0.3531 - val_binary_accuracy: 0.8379\n",
      "Epoch 31/200\n",
      "175/175 [==============================] - 1s 6ms/step - loss: 0.3472 - binary_accuracy: 0.8402 - val_loss: 0.3487 - val_binary_accuracy: 0.8398\n",
      "Epoch 32/200\n",
      "175/175 [==============================] - 1s 6ms/step - loss: 0.3445 - binary_accuracy: 0.8410 - val_loss: 0.3495 - val_binary_accuracy: 0.8396\n",
      "Epoch 33/200\n",
      "175/175 [==============================] - 1s 6ms/step - loss: 0.3449 - binary_accuracy: 0.8406 - val_loss: 0.3491 - val_binary_accuracy: 0.8391\n",
      "Epoch 34/200\n",
      "175/175 [==============================] - 1s 6ms/step - loss: 0.3444 - binary_accuracy: 0.8415 - val_loss: 0.3474 - val_binary_accuracy: 0.8418\n",
      "Epoch 35/200\n",
      "175/175 [==============================] - 1s 7ms/step - loss: 0.3433 - binary_accuracy: 0.8417 - val_loss: 0.3475 - val_binary_accuracy: 0.8404\n",
      "Epoch 36/200\n",
      "175/175 [==============================] - 1s 6ms/step - loss: 0.3423 - binary_accuracy: 0.8431 - val_loss: 0.3475 - val_binary_accuracy: 0.8412\n",
      "Epoch 37/200\n",
      "175/175 [==============================] - 1s 6ms/step - loss: 0.3408 - binary_accuracy: 0.8428 - val_loss: 0.3466 - val_binary_accuracy: 0.8405\n",
      "Epoch 38/200\n",
      "175/175 [==============================] - 1s 6ms/step - loss: 0.3401 - binary_accuracy: 0.8432 - val_loss: 0.3467 - val_binary_accuracy: 0.8417\n",
      "Epoch 39/200\n",
      "175/175 [==============================] - 1s 7ms/step - loss: 0.3396 - binary_accuracy: 0.8431 - val_loss: 0.3457 - val_binary_accuracy: 0.8412\n",
      "Epoch 40/200\n",
      "175/175 [==============================] - 1s 7ms/step - loss: 0.3382 - binary_accuracy: 0.8439 - val_loss: 0.3456 - val_binary_accuracy: 0.8419\n",
      "Epoch 41/200\n",
      "175/175 [==============================] - 1s 6ms/step - loss: 0.3372 - binary_accuracy: 0.8444 - val_loss: 0.3451 - val_binary_accuracy: 0.8413\n",
      "Epoch 42/200\n",
      "175/175 [==============================] - 1s 6ms/step - loss: 0.3382 - binary_accuracy: 0.8444 - val_loss: 0.3470 - val_binary_accuracy: 0.8407\n",
      "Epoch 43/200\n",
      "175/175 [==============================] - 1s 6ms/step - loss: 0.3374 - binary_accuracy: 0.8443 - val_loss: 0.3472 - val_binary_accuracy: 0.8389\n",
      "Epoch 44/200\n",
      "175/175 [==============================] - 1s 6ms/step - loss: 0.3361 - binary_accuracy: 0.8452 - val_loss: 0.3476 - val_binary_accuracy: 0.8398\n"
     ]
    },
    {
     "data": {
      "text/plain": [
       "<Axes: title={'center': 'Accuracy'}>"
      ]
     },
     "execution_count": 7,
     "metadata": {},
     "output_type": "execute_result"
    },
    {
     "data": {
      "image/png": "[encoded data removed]",
      "text/plain": [
       "<Figure size 640x480 with 1 Axes>"
      ]
     },
     "metadata": {},
     "output_type": "display_data"
    },
    {
     "data": {
      "image/png": "[encoded data removed]",
      "text/plain": [
       "<Figure size 640x480 with 1 Axes>"
      ]
     },
     "metadata": {},
     "output_type": "display_data"
    }
   ],
   "source": [
    "early_stopping = keras.callbacks.EarlyStopping(\n",
    "    patience=5,\n",
    "    min_delta=0.001,\n",
    "    restore_best_weights=True,\n",
    ")\n",
    "history = model.fit(\n",
    "    X_train, y_train,\n",
    "    validation_data=(X_valid, y_valid),\n",
    "    batch_size=512,\n",
    "    epochs=200,\n",
    "    callbacks=[early_stopping],\n",
    ")\n",
    "\n",
    "history_df = pd.DataFrame(history.history)\n",
    "history_df.loc[:, ['loss', 'val_loss']].plot(title=\"Cross-entropy\")\n",
    "history_df.loc[:, ['binary_accuracy', 'val_binary_accuracy']].plot(title=\"Accuracy\")"
   ]
  },
  {
   "cell_type": "markdown",
   "id": "e533b627",
   "metadata": {
    "papermill": {
     "duration": 0.071087,
     "end_time": "2023-06-01T15:15:14.617730",
     "exception": false,
     "start_time": "2023-06-01T15:15:14.546643",
     "status": "completed"
    },
    "tags": []
   },
   "source": [
    "# 3) Train and Evaluate #\n",
    "\n",
    "\n",
    "What do you think about the learning curves? Does it look like the model underfit or overfit? Was the cross-entropy loss a good stand-in for accuracy?"
   ]
  },
  {
   "cell_type": "code",
   "execution_count": 8,
   "id": "69e180a7",
   "metadata": {
    "execution": {
     "iopub.execute_input": "2023-06-01T15:15:14.761578Z",
     "iopub.status.busy": "2023-06-01T15:15:14.760551Z",
     "iopub.status.idle": "2023-06-01T15:15:14.770916Z",
     "shell.execute_reply": "2023-06-01T15:15:14.770082Z"
    },
    "papermill": {
     "duration": 0.084112,
     "end_time": "2023-06-01T15:15:14.772837",
     "exception": false,
     "start_time": "2023-06-01T15:15:14.688725",
     "status": "completed"
    },
    "tags": []
   },
   "outputs": [
    {
     "data": {
      "application/javascript": [
       "parent.postMessage({\"jupyterEvent\": \"custom.exercise_interaction\", \"data\": {\"outcomeType\": 1, \"valueTowardsCompletion\": 0.3333333333333333, \"interactionType\": 1, \"questionType\": 4, \"questionId\": \"3_Q3\", \"learnToolsVersion\": \"0.3.4\", \"failureMessage\": \"\", \"exceptionClass\": \"\", \"trace\": \"\"}}, \"*\")"
      ],
      "text/plain": [
       "<IPython.core.display.Javascript object>"
      ]
     },
     "metadata": {},
     "output_type": "display_data"
    },
    {
     "data": {
      "text/markdown": [
       "<span style=\"color:#33cc33\">Correct:</span> \n",
       "\n",
       "Though we can see the training loss continuing to fall, the early stopping callback prevented any overfitting. Moreover, the accuracy rose at the same rate as the cross-entropy fell, so it appears that minimizing cross-entropy was a good stand-in. All in all, it looks like this training was a success!"
      ],
      "text/plain": [
       "Correct: \n",
       "\n",
       "Though we can see the training loss continuing to fall, the early stopping callback prevented any overfitting. Moreover, the accuracy rose at the same rate as the cross-entropy fell, so it appears that minimizing cross-entropy was a good stand-in. All in all, it looks like this training was a success!"
      ]
     },
     "metadata": {},
     "output_type": "display_data"
    }
   ],
   "source": [
    "# View the solution (Run this cell to receive credit!)\n",
    "q_3.check()"
   ]
  },
  {
   "cell_type": "markdown",
   "id": "6b5462a9",
   "metadata": {
    "papermill": {
     "duration": 0.071212,
     "end_time": "2023-06-01T15:15:14.914844",
     "exception": false,
     "start_time": "2023-06-01T15:15:14.843632",
     "status": "completed"
    },
    "tags": []
   },
   "source": [
    "# Conclusion #\n",
    "\n",
    "Congratulations! You've completed Kaggle's *Introduction to Deep Learning* course!\n",
    "\n",
    "With your new skills you're ready to take on more advanced applications like computer vision and sentiment classification. What would you like to do next?\n",
    "\n",
    "Why not try one of our *Getting Started* competitions?\n",
    "\n",
    "- Classify images with TPUs in [**Petals to the Metal**](https://www.kaggle.com/c/tpu-getting-started)\n",
    "- Create art with GANs in [**I'm Something of a Painter Myself**](https://www.kaggle.com/c/gan-getting-started)\n",
    "- Classify Tweets in [**Real or Not? NLP with Disaster Tweets**](https://www.kaggle.com/c/nlp-getting-started)\n",
    "- Detect contradiction and entailment in [**Contradictory, My Dear Watson**](https://www.kaggle.com/c/contradictory-my-dear-watson)\n",
    "\n",
    "Until next time, Kagglers!"
   ]
  },
  {
   "cell_type": "markdown",
   "id": "88bcd776",
   "metadata": {
    "papermill": {
     "duration": 0.070824,
     "end_time": "2023-06-01T15:15:15.057366",
     "exception": false,
     "start_time": "2023-06-01T15:15:14.986542",
     "status": "completed"
    },
    "tags": []
   },
   "source": [
    "---\n",
    "\n",
    "\n",
    "\n",
    "\n",
    "*Have questions or comments? Visit the [course discussion forum](https://www.kaggle.com/learn/intro-to-deep-learning/discussion) to chat with other learners.*"
   ]
  }
 ],
 "metadata": {
  "kernelspec": {
   "display_name": "Python 3",
   "language": "python",
   "name": "python3"
  },
  "language_info": {
   "codemirror_mode": {
    "name": "ipython",
    "version": 3
   },
   "file_extension": ".py",
   "mimetype": "text/x-python",
   "name": "python",
   "nbconvert_exporter": "python",
   "pygments_lexer": "ipython3",
   "version": "3.10.10"
  },
  "papermill": {
   "default_parameters": {},
   "duration": 81.648825,
   "end_time": "2023-06-01T15:15:18.361345",
   "environment_variables": {},
   "exception": null,
   "input_path": "__notebook__.ipynb",
   "output_path": "__notebook__.ipynb",
   "parameters": {},
   "start_time": "2023-06-01T15:13:56.712520",
   "version": "2.4.0"
  }
 },
 "nbformat": 4,
 "nbformat_minor": 5
}
