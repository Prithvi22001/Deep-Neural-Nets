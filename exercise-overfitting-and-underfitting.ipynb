{
 "cells": [
  {
   "cell_type": "markdown",
   "id": "ddfe2cab",
   "metadata": {
    "papermill": {
     "duration": 0.008356,
     "end_time": "2023-05-23T16:05:35.214393",
     "exception": false,
     "start_time": "2023-05-23T16:05:35.206037",
     "status": "completed"
    },
    "tags": []
   },
   "source": [
    "**This notebook is an exercise in the [Intro to Deep Learning](https://www.kaggle.com/learn/intro-to-deep-learning) course.  You can reference the tutorial at [this link](https://www.kaggle.com/ryanholbrook/overfitting-and-underfitting).**\n",
    "\n",
    "---\n"
   ]
  },
  {
   "cell_type": "markdown",
   "id": "72d4dd4f",
   "metadata": {
    "papermill": {
     "duration": 0.006132,
     "end_time": "2023-05-23T16:05:35.226859",
     "exception": false,
     "start_time": "2023-05-23T16:05:35.220727",
     "status": "completed"
    },
    "tags": []
   },
   "source": [
    "# Introduction #\n",
    "\n",
    "In this exercise, you’ll learn how to improve training outcomes by including an early stopping callback to prevent overfitting.\n",
    "\n",
    "When you're ready, run this next cell to set everything up!"
   ]
  },
  {
   "cell_type": "code",
   "execution_count": 1,
   "id": "303fe3c8",
   "metadata": {
    "execution": {
     "iopub.execute_input": "2023-05-23T16:05:35.241208Z",
     "iopub.status.busy": "2023-05-23T16:05:35.240792Z",
     "iopub.status.idle": "2023-05-23T16:05:35.283939Z",
     "shell.execute_reply": "2023-05-23T16:05:35.282910Z"
    },
    "papermill": {
     "duration": 0.053662,
     "end_time": "2023-05-23T16:05:35.286934",
     "exception": false,
     "start_time": "2023-05-23T16:05:35.233272",
     "status": "completed"
    },
    "tags": []
   },
   "outputs": [
    {
     "name": "stderr",
     "output_type": "stream",
     "text": [
      "/tmp/ipykernel_24/1500229236.py:3: MatplotlibDeprecationWarning: The seaborn styles shipped by Matplotlib are deprecated since 3.6, as they no longer correspond to the styles shipped by seaborn. However, they will remain available as 'seaborn-v0_8-<style>'. Alternatively, directly use the seaborn API instead.\n",
      "  plt.style.use('seaborn-whitegrid')\n"
     ]
    }
   ],
   "source": [
    "# Setup plotting\n",
    "import matplotlib.pyplot as plt\n",
    "plt.style.use('seaborn-whitegrid')\n",
    "# Set Matplotlib defaults\n",
    "plt.rc('figure', autolayout=True)\n",
    "plt.rc('axes', labelweight='bold', labelsize='large',\n",
    "       titleweight='bold', titlesize=18, titlepad=10)\n",
    "plt.rc('animation', html='html5')\n",
    "\n",
    "# Setup feedback system\n",
    "from learntools.core import binder\n",
    "binder.bind(globals())\n",
    "from learntools.deep_learning_intro.ex4 import *"
   ]
  },
  {
   "cell_type": "markdown",
   "id": "fe7248e3",
   "metadata": {
    "papermill": {
     "duration": 0.005954,
     "end_time": "2023-05-23T16:05:35.299109",
     "exception": false,
     "start_time": "2023-05-23T16:05:35.293155",
     "status": "completed"
    },
    "tags": []
   },
   "source": [
    "First load the *Spotify* dataset. Your task will be to predict the popularity of a song based on various audio features, like `'tempo'`, `'danceability'`, and `'mode'`."
   ]
  },
  {
   "cell_type": "code",
   "execution_count": 2,
   "id": "e0427191",
   "metadata": {
    "execution": {
     "iopub.execute_input": "2023-05-23T16:05:35.313453Z",
     "iopub.status.busy": "2023-05-23T16:05:35.312057Z",
     "iopub.status.idle": "2023-05-23T16:05:43.610873Z",
     "shell.execute_reply": "2023-05-23T16:05:43.608623Z"
    },
    "papermill": {
     "duration": 8.309902,
     "end_time": "2023-05-23T16:05:43.615080",
     "exception": false,
     "start_time": "2023-05-23T16:05:35.305178",
     "status": "completed"
    },
    "tags": []
   },
   "outputs": [
    {
     "name": "stderr",
     "output_type": "stream",
     "text": [
      "/opt/conda/lib/python3.10/site-packages/scipy/__init__.py:146: UserWarning: A NumPy version >=1.16.5 and <1.23.0 is required for this version of SciPy (detected version 1.23.5\n",
      "  warnings.warn(f\"A NumPy version >={np_minversion} and <{np_maxversion}\"\n"
     ]
    },
    {
     "name": "stdout",
     "output_type": "stream",
     "text": [
      "Input shape: [18]\n"
     ]
    }
   ],
   "source": [
    "import pandas as pd\n",
    "from sklearn.preprocessing import StandardScaler, OneHotEncoder\n",
    "from sklearn.compose import make_column_transformer\n",
    "from sklearn.model_selection import GroupShuffleSplit\n",
    "\n",
    "from tensorflow import keras\n",
    "from tensorflow.keras import layers\n",
    "from tensorflow.keras import callbacks\n",
    "\n",
    "spotify = pd.read_csv('../input/dl-course-data/spotify.csv')\n",
    "\n",
    "X = spotify.copy().dropna()\n",
    "y = X.pop('track_popularity')\n",
    "artists = X['track_artist']\n",
    "\n",
    "features_num = ['danceability', 'energy', 'key', 'loudness', 'mode',\n",
    "                'speechiness', 'acousticness', 'instrumentalness',\n",
    "                'liveness', 'valence', 'tempo', 'duration_ms']\n",
    "features_cat = ['playlist_genre']\n",
    "\n",
    "preprocessor = make_column_transformer(\n",
    "    (StandardScaler(), features_num),\n",
    "    (OneHotEncoder(), features_cat),\n",
    ")\n",
    "\n",
    "# We'll do a \"grouped\" split to keep all of an artist's songs in one\n",
    "# split or the other. This is to help prevent signal leakage.\n",
    "def group_split(X, y, group, train_size=0.75):\n",
    "    splitter = GroupShuffleSplit(train_size=train_size)\n",
    "    train, test = next(splitter.split(X, y, groups=group))\n",
    "    return (X.iloc[train], X.iloc[test], y.iloc[train], y.iloc[test])\n",
    "\n",
    "X_train, X_valid, y_train, y_valid = group_split(X, y, artists)\n",
    "\n",
    "X_train = preprocessor.fit_transform(X_train)\n",
    "X_valid = preprocessor.transform(X_valid)\n",
    "y_train = y_train / 100 # popularity is on a scale 0-100, so this rescales to 0-1.\n",
    "y_valid = y_valid / 100\n",
    "\n",
    "input_shape = [X_train.shape[1]]\n",
    "print(\"Input shape: {}\".format(input_shape))"
   ]
  },
  {
   "cell_type": "markdown",
   "id": "dbdf0a09",
   "metadata": {
    "papermill": {
     "duration": 0.009151,
     "end_time": "2023-05-23T16:05:43.638186",
     "exception": false,
     "start_time": "2023-05-23T16:05:43.629035",
     "status": "completed"
    },
    "tags": []
   },
   "source": [
    "Let's start with the simplest network, a linear model. This model has low capacity.\n",
    "\n",
    "Run this next cell without any changes to train a linear model on the *Spotify* dataset."
   ]
  },
  {
   "cell_type": "code",
   "execution_count": 3,
   "id": "780b6009",
   "metadata": {
    "execution": {
     "iopub.execute_input": "2023-05-23T16:05:43.657801Z",
     "iopub.status.busy": "2023-05-23T16:05:43.657303Z",
     "iopub.status.idle": "2023-05-23T16:05:57.584949Z",
     "shell.execute_reply": "2023-05-23T16:05:57.583991Z"
    },
    "lines_to_next_cell": 0,
    "papermill": {
     "duration": 13.939692,
     "end_time": "2023-05-23T16:05:57.587214",
     "exception": false,
     "start_time": "2023-05-23T16:05:43.647522",
     "status": "completed"
    },
    "tags": []
   },
   "outputs": [
    {
     "name": "stdout",
     "output_type": "stream",
     "text": [
      "Minimum Validation Loss: 0.1940\n"
     ]
    },
    {
     "data": {
      "image/png": "[encoded data removed]",
      "text/plain": [
       "<Figure size 640x480 with 1 Axes>"
      ]
     },
     "metadata": {},
     "output_type": "display_data"
    }
   ],
   "source": [
    "model = keras.Sequential([\n",
    "    layers.Dense(1, input_shape=input_shape),\n",
    "])\n",
    "model.compile(\n",
    "    optimizer='adam',\n",
    "    loss='mae',\n",
    ")\n",
    "history = model.fit(\n",
    "    X_train, y_train,\n",
    "    validation_data=(X_valid, y_valid),\n",
    "    batch_size=512,\n",
    "    epochs=50,\n",
    "    verbose=0, # suppress output since we'll plot the curves\n",
    ")\n",
    "history_df = pd.DataFrame(history.history)\n",
    "history_df.loc[0:, ['loss', 'val_loss']].plot()\n",
    "print(\"Minimum Validation Loss: {:0.4f}\".format(history_df['val_loss'].min()));"
   ]
  },
  {
   "cell_type": "markdown",
   "id": "4536170e",
   "metadata": {
    "papermill": {
     "duration": 0.006497,
     "end_time": "2023-05-23T16:05:57.600809",
     "exception": false,
     "start_time": "2023-05-23T16:05:57.594312",
     "status": "completed"
    },
    "tags": []
   },
   "source": [
    "It's not uncommon for the curves to follow a \"hockey stick\" pattern like you see here. This makes the final part of training hard to see, so let's start at epoch 10 instead:"
   ]
  },
  {
   "cell_type": "code",
   "execution_count": 4,
   "id": "a3347b7d",
   "metadata": {
    "execution": {
     "iopub.execute_input": "2023-05-23T16:05:57.617022Z",
     "iopub.status.busy": "2023-05-23T16:05:57.615278Z",
     "iopub.status.idle": "2023-05-23T16:05:58.001307Z",
     "shell.execute_reply": "2023-05-23T16:05:58.000351Z"
    },
    "papermill": {
     "duration": 0.39593,
     "end_time": "2023-05-23T16:05:58.003505",
     "exception": false,
     "start_time": "2023-05-23T16:05:57.607575",
     "status": "completed"
    },
    "tags": []
   },
   "outputs": [
    {
     "name": "stdout",
     "output_type": "stream",
     "text": [
      "Minimum Validation Loss: 0.1940\n"
     ]
    },
    {
     "data": {
      "image/png": "[encoded data removed]",
      "text/plain": [
       "<Figure size 640x480 with 1 Axes>"
      ]
     },
     "metadata": {},
     "output_type": "display_data"
    }
   ],
   "source": [
    "# Start the plot at epoch 10\n",
    "history_df.loc[10:, ['loss', 'val_loss']].plot()\n",
    "print(\"Minimum Validation Loss: {:0.4f}\".format(history_df['val_loss'].min()));"
   ]
  },
  {
   "cell_type": "markdown",
   "id": "d40eeeb7",
   "metadata": {
    "papermill": {
     "duration": 0.007142,
     "end_time": "2023-05-23T16:05:58.018299",
     "exception": false,
     "start_time": "2023-05-23T16:05:58.011157",
     "status": "completed"
    },
    "tags": []
   },
   "source": [
    "# 1) Evaluate Baseline\n",
    "\n",
    "What do you think? Would you say this model is underfitting, overfitting, just right?"
   ]
  },
  {
   "cell_type": "code",
   "execution_count": 5,
   "id": "a97f87ad",
   "metadata": {
    "execution": {
     "iopub.execute_input": "2023-05-23T16:05:58.033977Z",
     "iopub.status.busy": "2023-05-23T16:05:58.033387Z",
     "iopub.status.idle": "2023-05-23T16:05:58.042210Z",
     "shell.execute_reply": "2023-05-23T16:05:58.041260Z"
    },
    "papermill": {
     "duration": 0.019253,
     "end_time": "2023-05-23T16:05:58.044648",
     "exception": false,
     "start_time": "2023-05-23T16:05:58.025395",
     "status": "completed"
    },
    "tags": []
   },
   "outputs": [
    {
     "data": {
      "application/javascript": [
       "parent.postMessage({\"jupyterEvent\": \"custom.exercise_interaction\", \"data\": {\"outcomeType\": 1, \"valueTowardsCompletion\": 0.25, \"interactionType\": 1, \"questionType\": 4, \"questionId\": \"1_Q1\", \"learnToolsVersion\": \"0.3.4\", \"failureMessage\": \"\", \"exceptionClass\": \"\", \"trace\": \"\"}}, \"*\")"
      ],
      "text/plain": [
       "<IPython.core.display.Javascript object>"
      ]
     },
     "metadata": {},
     "output_type": "display_data"
    },
    {
     "data": {
      "text/markdown": [
       "<span style=\"color:#33cc33\">Correct:</span> \n",
       "\n",
       "The gap between these curves is quite small and the validation loss never increases, so it's more likely that the network is underfitting than overfitting. It would be worth experimenting with more capacity to see if that's the case."
      ],
      "text/plain": [
       "Correct: \n",
       "\n",
       "The gap between these curves is quite small and the validation loss never increases, so it's more likely that the network is underfitting than overfitting. It would be worth experimenting with more capacity to see if that's the case."
      ]
     },
     "metadata": {},
     "output_type": "display_data"
    }
   ],
   "source": [
    "# View the solution (Run this cell to receive credit!)\n",
    "q_1.check()"
   ]
  },
  {
   "cell_type": "markdown",
   "id": "d159d1d6",
   "metadata": {
    "papermill": {
     "duration": 0.007479,
     "end_time": "2023-05-23T16:05:58.060098",
     "exception": false,
     "start_time": "2023-05-23T16:05:58.052619",
     "status": "completed"
    },
    "tags": []
   },
   "source": [
    "Now let's add some capacity to our network. We'll add three hidden layers with 128 units each. Run the next cell to train the network and see the learning curves."
   ]
  },
  {
   "cell_type": "code",
   "execution_count": 6,
   "id": "644109a3",
   "metadata": {
    "execution": {
     "iopub.execute_input": "2023-05-23T16:05:58.076478Z",
     "iopub.status.busy": "2023-05-23T16:05:58.075707Z",
     "iopub.status.idle": "2023-05-23T16:06:10.174214Z",
     "shell.execute_reply": "2023-05-23T16:06:10.173308Z"
    },
    "papermill": {
     "duration": 12.108949,
     "end_time": "2023-05-23T16:06:10.176475",
     "exception": false,
     "start_time": "2023-05-23T16:05:58.067526",
     "status": "completed"
    },
    "tags": []
   },
   "outputs": [
    {
     "name": "stdout",
     "output_type": "stream",
     "text": [
      "Epoch 1/50\n",
      "49/49 [==============================] - 2s 6ms/step - loss: 0.2582 - val_loss: 0.2032\n",
      "Epoch 2/50\n",
      "49/49 [==============================] - 0s 4ms/step - loss: 0.2031 - val_loss: 0.1976\n",
      "Epoch 3/50\n",
      "49/49 [==============================] - 0s 5ms/step - loss: 0.1983 - val_loss: 0.1957\n",
      "Epoch 4/50\n",
      "49/49 [==============================] - 0s 4ms/step - loss: 0.1955 - val_loss: 0.1956\n",
      "Epoch 5/50\n",
      "49/49 [==============================] - 0s 4ms/step - loss: 0.1954 - val_loss: 0.1946\n",
      "Epoch 6/50\n",
      "49/49 [==============================] - 0s 4ms/step - loss: 0.1932 - val_loss: 0.1971\n",
      "Epoch 7/50\n",
      "49/49 [==============================] - 0s 4ms/step - loss: 0.1930 - val_loss: 0.1941\n",
      "Epoch 8/50\n",
      "49/49 [==============================] - 0s 4ms/step - loss: 0.1914 - val_loss: 0.1945\n",
      "Epoch 9/50\n",
      "49/49 [==============================] - 0s 5ms/step - loss: 0.1917 - val_loss: 0.1933\n",
      "Epoch 10/50\n",
      "49/49 [==============================] - 0s 4ms/step - loss: 0.1912 - val_loss: 0.1986\n",
      "Epoch 11/50\n",
      "49/49 [==============================] - 0s 4ms/step - loss: 0.1923 - val_loss: 0.1941\n",
      "Epoch 12/50\n",
      "49/49 [==============================] - 0s 4ms/step - loss: 0.1894 - val_loss: 0.1948\n",
      "Epoch 13/50\n",
      "49/49 [==============================] - 0s 4ms/step - loss: 0.1901 - val_loss: 0.1950\n",
      "Epoch 14/50\n",
      "49/49 [==============================] - 0s 4ms/step - loss: 0.1882 - val_loss: 0.1953\n",
      "Epoch 15/50\n",
      "49/49 [==============================] - 0s 4ms/step - loss: 0.1901 - val_loss: 0.1933\n",
      "Epoch 16/50\n",
      "49/49 [==============================] - 0s 4ms/step - loss: 0.1877 - val_loss: 0.1941\n",
      "Epoch 17/50\n",
      "49/49 [==============================] - 0s 4ms/step - loss: 0.1864 - val_loss: 0.1929\n",
      "Epoch 18/50\n",
      "49/49 [==============================] - 0s 4ms/step - loss: 0.1870 - val_loss: 0.1934\n",
      "Epoch 19/50\n",
      "49/49 [==============================] - 0s 4ms/step - loss: 0.1854 - val_loss: 0.1941\n",
      "Epoch 20/50\n",
      "49/49 [==============================] - 0s 4ms/step - loss: 0.1872 - val_loss: 0.1955\n",
      "Epoch 21/50\n",
      "49/49 [==============================] - 0s 4ms/step - loss: 0.1860 - val_loss: 0.1941\n",
      "Epoch 22/50\n",
      "49/49 [==============================] - 0s 4ms/step - loss: 0.1847 - val_loss: 0.1949\n",
      "Epoch 23/50\n",
      "49/49 [==============================] - 0s 4ms/step - loss: 0.1848 - val_loss: 0.1942\n",
      "Epoch 24/50\n",
      "49/49 [==============================] - 0s 4ms/step - loss: 0.1847 - val_loss: 0.1943\n",
      "Epoch 25/50\n",
      "49/49 [==============================] - 0s 4ms/step - loss: 0.1838 - val_loss: 0.1938\n",
      "Epoch 26/50\n",
      "49/49 [==============================] - 0s 4ms/step - loss: 0.1825 - val_loss: 0.1934\n",
      "Epoch 27/50\n",
      "49/49 [==============================] - 0s 4ms/step - loss: 0.1818 - val_loss: 0.1944\n",
      "Epoch 28/50\n",
      "49/49 [==============================] - 0s 4ms/step - loss: 0.1825 - val_loss: 0.1952\n",
      "Epoch 29/50\n",
      "49/49 [==============================] - 0s 4ms/step - loss: 0.1832 - val_loss: 0.1950\n",
      "Epoch 30/50\n",
      "49/49 [==============================] - 0s 4ms/step - loss: 0.1826 - val_loss: 0.1959\n",
      "Epoch 31/50\n",
      "49/49 [==============================] - 0s 4ms/step - loss: 0.1820 - val_loss: 0.1936\n",
      "Epoch 32/50\n",
      "49/49 [==============================] - 0s 4ms/step - loss: 0.1834 - val_loss: 0.1947\n",
      "Epoch 33/50\n",
      "49/49 [==============================] - 0s 4ms/step - loss: 0.1831 - val_loss: 0.1977\n",
      "Epoch 34/50\n",
      "49/49 [==============================] - 0s 4ms/step - loss: 0.1842 - val_loss: 0.1943\n",
      "Epoch 35/50\n",
      "49/49 [==============================] - 0s 4ms/step - loss: 0.1827 - val_loss: 0.1945\n",
      "Epoch 36/50\n",
      "49/49 [==============================] - 0s 6ms/step - loss: 0.1822 - val_loss: 0.1946\n",
      "Epoch 37/50\n",
      "49/49 [==============================] - 0s 4ms/step - loss: 0.1817 - val_loss: 0.1943\n",
      "Epoch 38/50\n",
      "49/49 [==============================] - 0s 4ms/step - loss: 0.1810 - val_loss: 0.1949\n",
      "Epoch 39/50\n",
      "49/49 [==============================] - 0s 4ms/step - loss: 0.1808 - val_loss: 0.1948\n",
      "Epoch 40/50\n",
      "49/49 [==============================] - 0s 4ms/step - loss: 0.1804 - val_loss: 0.1944\n",
      "Epoch 41/50\n",
      "49/49 [==============================] - 0s 4ms/step - loss: 0.1792 - val_loss: 0.1941\n",
      "Epoch 42/50\n",
      "49/49 [==============================] - 0s 4ms/step - loss: 0.1796 - val_loss: 0.1956\n",
      "Epoch 43/50\n",
      "49/49 [==============================] - 0s 4ms/step - loss: 0.1786 - val_loss: 0.1956\n",
      "Epoch 44/50\n",
      "49/49 [==============================] - 0s 5ms/step - loss: 0.1797 - val_loss: 0.1948\n",
      "Epoch 45/50\n",
      "49/49 [==============================] - 0s 4ms/step - loss: 0.1785 - val_loss: 0.1959\n",
      "Epoch 46/50\n",
      "49/49 [==============================] - 0s 4ms/step - loss: 0.1795 - val_loss: 0.1967\n",
      "Epoch 47/50\n",
      "49/49 [==============================] - 0s 4ms/step - loss: 0.1778 - val_loss: 0.1966\n",
      "Epoch 48/50\n",
      "49/49 [==============================] - 0s 4ms/step - loss: 0.1780 - val_loss: 0.1958\n",
      "Epoch 49/50\n",
      "49/49 [==============================] - 0s 4ms/step - loss: 0.1780 - val_loss: 0.1947\n",
      "Epoch 50/50\n",
      "49/49 [==============================] - 0s 5ms/step - loss: 0.1772 - val_loss: 0.1960\n",
      "Minimum Validation Loss: 0.1929\n"
     ]
    },
    {
     "data": {
      "image/png": "[encoded data removed]",
      "text/plain": [
       "<Figure size 640x480 with 1 Axes>"
      ]
     },
     "metadata": {},
     "output_type": "display_data"
    }
   ],
   "source": [
    "model = keras.Sequential([\n",
    "    layers.Dense(128, activation='relu', input_shape=input_shape),\n",
    "    layers.Dense(64, activation='relu'),\n",
    "    layers.Dense(1)\n",
    "])\n",
    "model.compile(\n",
    "    optimizer='adam',\n",
    "    loss='mae',\n",
    ")\n",
    "history = model.fit(\n",
    "    X_train, y_train,\n",
    "    validation_data=(X_valid, y_valid),\n",
    "    batch_size=512,\n",
    "    epochs=50,\n",
    ")\n",
    "history_df = pd.DataFrame(history.history)\n",
    "history_df.loc[:, ['loss', 'val_loss']].plot()\n",
    "print(\"Minimum Validation Loss: {:0.4f}\".format(history_df['val_loss'].min()));"
   ]
  },
  {
   "cell_type": "markdown",
   "id": "3dfb8c14",
   "metadata": {
    "papermill": {
     "duration": 0.025931,
     "end_time": "2023-05-23T16:06:10.228988",
     "exception": false,
     "start_time": "2023-05-23T16:06:10.203057",
     "status": "completed"
    },
    "tags": []
   },
   "source": [
    "# 2) Add Capacity\n",
    "\n",
    "What is your evaluation of these curves? Underfitting, overfitting, just right?"
   ]
  },
  {
   "cell_type": "code",
   "execution_count": 7,
   "id": "211e3337",
   "metadata": {
    "execution": {
     "iopub.execute_input": "2023-05-23T16:06:10.282327Z",
     "iopub.status.busy": "2023-05-23T16:06:10.281998Z",
     "iopub.status.idle": "2023-05-23T16:06:10.289954Z",
     "shell.execute_reply": "2023-05-23T16:06:10.288971Z"
    },
    "papermill": {
     "duration": 0.038455,
     "end_time": "2023-05-23T16:06:10.293347",
     "exception": false,
     "start_time": "2023-05-23T16:06:10.254892",
     "status": "completed"
    },
    "tags": []
   },
   "outputs": [
    {
     "data": {
      "application/javascript": [
       "parent.postMessage({\"jupyterEvent\": \"custom.exercise_interaction\", \"data\": {\"outcomeType\": 1, \"valueTowardsCompletion\": 0.25, \"interactionType\": 1, \"questionType\": 4, \"questionId\": \"2_Q2\", \"learnToolsVersion\": \"0.3.4\", \"failureMessage\": \"\", \"exceptionClass\": \"\", \"trace\": \"\"}}, \"*\")"
      ],
      "text/plain": [
       "<IPython.core.display.Javascript object>"
      ]
     },
     "metadata": {},
     "output_type": "display_data"
    },
    {
     "data": {
      "text/markdown": [
       "<span style=\"color:#33cc33\">Correct:</span> \n",
       "\n",
       "Now the validation loss begins to rise very early, while the training loss continues to decrease. This indicates that the network has begun to overfit. At this point, we would need to try something to prevent it, either by reducing the number of units or through a method like early stopping. (We'll see another in the next lesson!)"
      ],
      "text/plain": [
       "Correct: \n",
       "\n",
       "Now the validation loss begins to rise very early, while the training loss continues to decrease. This indicates that the network has begun to overfit. At this point, we would need to try something to prevent it, either by reducing the number of units or through a method like early stopping. (We'll see another in the next lesson!)"
      ]
     },
     "metadata": {},
     "output_type": "display_data"
    }
   ],
   "source": [
    "# View the solution (Run this cell to receive credit!)\n",
    "q_2.check()"
   ]
  },
  {
   "cell_type": "markdown",
   "id": "959a4e60",
   "metadata": {
    "papermill": {
     "duration": 0.025969,
     "end_time": "2023-05-23T16:06:10.345187",
     "exception": false,
     "start_time": "2023-05-23T16:06:10.319218",
     "status": "completed"
    },
    "tags": []
   },
   "source": [
    "# 3) Define Early Stopping Callback\n",
    "\n",
    "Now define an early stopping callback that waits 5 epochs (`patience'`) for a change in validation loss of at least `0.001` (`min_delta`) and keeps the weights with the best loss (`restore_best_weights`)."
   ]
  },
  {
   "cell_type": "code",
   "execution_count": 8,
   "id": "a300badc",
   "metadata": {
    "execution": {
     "iopub.execute_input": "2023-05-23T16:06:10.398807Z",
     "iopub.status.busy": "2023-05-23T16:06:10.398494Z",
     "iopub.status.idle": "2023-05-23T16:06:10.407925Z",
     "shell.execute_reply": "2023-05-23T16:06:10.407083Z"
    },
    "lines_to_next_cell": 0,
    "papermill": {
     "duration": 0.038642,
     "end_time": "2023-05-23T16:06:10.409823",
     "exception": false,
     "start_time": "2023-05-23T16:06:10.371181",
     "status": "completed"
    },
    "tags": []
   },
   "outputs": [
    {
     "data": {
      "application/javascript": [
       "parent.postMessage({\"jupyterEvent\": \"custom.exercise_interaction\", \"data\": {\"outcomeType\": 1, \"valueTowardsCompletion\": 0.25, \"interactionType\": 1, \"questionType\": 2, \"questionId\": \"3_Q3\", \"learnToolsVersion\": \"0.3.4\", \"failureMessage\": \"\", \"exceptionClass\": \"\", \"trace\": \"\"}}, \"*\")"
      ],
      "text/plain": [
       "<IPython.core.display.Javascript object>"
      ]
     },
     "metadata": {},
     "output_type": "display_data"
    },
    {
     "data": {
      "text/markdown": [
       "<span style=\"color:#33cc33\">Correct</span>"
      ],
      "text/plain": [
       "Correct"
      ]
     },
     "metadata": {},
     "output_type": "display_data"
    }
   ],
   "source": [
    "from tensorflow.keras import callbacks\n",
    "\n",
    "# YOUR CODE HERE: define an early stopping callback\n",
    "early_stopping = callbacks.EarlyStopping(\n",
    "    min_delta=0.001,\n",
    "    patience=5,\n",
    "    restore_best_weights=True\n",
    "\n",
    ")\n",
    "\n",
    "# Check your answer\n",
    "q_3.check()"
   ]
  },
  {
   "cell_type": "code",
   "execution_count": 9,
   "id": "8074a4bf",
   "metadata": {
    "execution": {
     "iopub.execute_input": "2023-05-23T16:06:10.465125Z",
     "iopub.status.busy": "2023-05-23T16:06:10.463558Z",
     "iopub.status.idle": "2023-05-23T16:06:10.468196Z",
     "shell.execute_reply": "2023-05-23T16:06:10.467351Z"
    },
    "papermill": {
     "duration": 0.034077,
     "end_time": "2023-05-23T16:06:10.470184",
     "exception": false,
     "start_time": "2023-05-23T16:06:10.436107",
     "status": "completed"
    },
    "tags": []
   },
   "outputs": [],
   "source": [
    "# Lines below will give you a hint or solution code\n",
    "#q_3.hint()\n",
    "#q_3.solution()"
   ]
  },
  {
   "cell_type": "markdown",
   "id": "c9e2a7f3",
   "metadata": {
    "papermill": {
     "duration": 0.026245,
     "end_time": "2023-05-23T16:06:10.522718",
     "exception": false,
     "start_time": "2023-05-23T16:06:10.496473",
     "status": "completed"
    },
    "tags": []
   },
   "source": [
    "Now run this cell to train the model and get the learning curves. Notice the `callbacks` argument in `model.fit`."
   ]
  },
  {
   "cell_type": "code",
   "execution_count": 10,
   "id": "0d57262a",
   "metadata": {
    "execution": {
     "iopub.execute_input": "2023-05-23T16:06:10.576946Z",
     "iopub.status.busy": "2023-05-23T16:06:10.576647Z",
     "iopub.status.idle": "2023-05-23T16:06:14.870598Z",
     "shell.execute_reply": "2023-05-23T16:06:14.869669Z"
    },
    "papermill": {
     "duration": 4.324154,
     "end_time": "2023-05-23T16:06:14.873230",
     "exception": false,
     "start_time": "2023-05-23T16:06:10.549076",
     "status": "completed"
    },
    "tags": []
   },
   "outputs": [
    {
     "name": "stdout",
     "output_type": "stream",
     "text": [
      "Minimum Validation Loss: 0.1935\n"
     ]
    },
    {
     "data": {
      "text/html": [
       "<div>\n",
       "<style scoped>\n",
       "    .dataframe tbody tr th:only-of-type {\n",
       "        vertical-align: middle;\n",
       "    }\n",
       "\n",
       "    .dataframe tbody tr th {\n",
       "        vertical-align: top;\n",
       "    }\n",
       "\n",
       "    .dataframe thead th {\n",
       "        text-align: right;\n",
       "    }\n",
       "</style>\n",
       "<table border=\"1\" class=\"dataframe\">\n",
       "  <thead>\n",
       "    <tr style=\"text-align: right;\">\n",
       "      <th></th>\n",
       "      <th>loss</th>\n",
       "      <th>val_loss</th>\n",
       "    </tr>\n",
       "  </thead>\n",
       "  <tbody>\n",
       "    <tr>\n",
       "      <th>0</th>\n",
       "      <td>0.232039</td>\n",
       "      <td>0.202932</td>\n",
       "    </tr>\n",
       "    <tr>\n",
       "      <th>1</th>\n",
       "      <td>0.203968</td>\n",
       "      <td>0.199183</td>\n",
       "    </tr>\n",
       "    <tr>\n",
       "      <th>2</th>\n",
       "      <td>0.198917</td>\n",
       "      <td>0.198584</td>\n",
       "    </tr>\n",
       "    <tr>\n",
       "      <th>3</th>\n",
       "      <td>0.195645</td>\n",
       "      <td>0.199749</td>\n",
       "    </tr>\n",
       "    <tr>\n",
       "      <th>4</th>\n",
       "      <td>0.194924</td>\n",
       "      <td>0.197139</td>\n",
       "    </tr>\n",
       "    <tr>\n",
       "      <th>5</th>\n",
       "      <td>0.193346</td>\n",
       "      <td>0.195663</td>\n",
       "    </tr>\n",
       "    <tr>\n",
       "      <th>6</th>\n",
       "      <td>0.192239</td>\n",
       "      <td>0.195940</td>\n",
       "    </tr>\n",
       "    <tr>\n",
       "      <th>7</th>\n",
       "      <td>0.191125</td>\n",
       "      <td>0.195771</td>\n",
       "    </tr>\n",
       "    <tr>\n",
       "      <th>8</th>\n",
       "      <td>0.190169</td>\n",
       "      <td>0.198624</td>\n",
       "    </tr>\n",
       "    <tr>\n",
       "      <th>9</th>\n",
       "      <td>0.189848</td>\n",
       "      <td>0.194190</td>\n",
       "    </tr>\n",
       "    <tr>\n",
       "      <th>10</th>\n",
       "      <td>0.189340</td>\n",
       "      <td>0.196728</td>\n",
       "    </tr>\n",
       "    <tr>\n",
       "      <th>11</th>\n",
       "      <td>0.191073</td>\n",
       "      <td>0.196364</td>\n",
       "    </tr>\n",
       "    <tr>\n",
       "      <th>12</th>\n",
       "      <td>0.188413</td>\n",
       "      <td>0.195597</td>\n",
       "    </tr>\n",
       "    <tr>\n",
       "      <th>13</th>\n",
       "      <td>0.188907</td>\n",
       "      <td>0.196764</td>\n",
       "    </tr>\n",
       "    <tr>\n",
       "      <th>14</th>\n",
       "      <td>0.188701</td>\n",
       "      <td>0.193513</td>\n",
       "    </tr>\n",
       "  </tbody>\n",
       "</table>\n",
       "</div>"
      ],
      "text/plain": [
       "        loss  val_loss\n",
       "0   0.232039  0.202932\n",
       "1   0.203968  0.199183\n",
       "2   0.198917  0.198584\n",
       "3   0.195645  0.199749\n",
       "4   0.194924  0.197139\n",
       "5   0.193346  0.195663\n",
       "6   0.192239  0.195940\n",
       "7   0.191125  0.195771\n",
       "8   0.190169  0.198624\n",
       "9   0.189848  0.194190\n",
       "10  0.189340  0.196728\n",
       "11  0.191073  0.196364\n",
       "12  0.188413  0.195597\n",
       "13  0.188907  0.196764\n",
       "14  0.188701  0.193513"
      ]
     },
     "execution_count": 10,
     "metadata": {},
     "output_type": "execute_result"
    },
    {
     "data": {
      "image/png": "[encoded data removed]",
      "text/plain": [
       "<Figure size 640x480 with 1 Axes>"
      ]
     },
     "metadata": {},
     "output_type": "display_data"
    }
   ],
   "source": [
    "model = keras.Sequential([\n",
    "    layers.Dense(128, activation='relu', input_shape=input_shape),\n",
    "    layers.Dense(64, activation='relu'),    \n",
    "    layers.Dense(1)\n",
    "])\n",
    "model.compile(\n",
    "    optimizer='adam',\n",
    "    loss='mae',\n",
    ")\n",
    "history = model.fit(\n",
    "    X_train, y_train,\n",
    "    validation_data=(X_valid, y_valid),\n",
    "    batch_size=512,\n",
    "    epochs=50,\n",
    "    callbacks=[early_stopping],\n",
    "    verbose=0\n",
    ")\n",
    "history_df = pd.DataFrame(history.history)\n",
    "history_df.loc[:, ['loss', 'val_loss']].plot()\n",
    "print(\"Minimum Validation Loss: {:0.4f}\".format(history_df['val_loss'].min()));\n",
    "history_df"
   ]
  },
  {
   "cell_type": "code",
   "execution_count": 11,
   "id": "0dd4dc6c",
   "metadata": {
    "execution": {
     "iopub.execute_input": "2023-05-23T16:06:14.953093Z",
     "iopub.status.busy": "2023-05-23T16:06:14.952536Z",
     "iopub.status.idle": "2023-05-23T16:06:14.974459Z",
     "shell.execute_reply": "2023-05-23T16:06:14.973443Z"
    },
    "papermill": {
     "duration": 0.064476,
     "end_time": "2023-05-23T16:06:14.977185",
     "exception": false,
     "start_time": "2023-05-23T16:06:14.912709",
     "status": "completed"
    },
    "tags": []
   },
   "outputs": [
    {
     "data": {
      "text/plain": [
       "[<tf.Variable 'dense_4/kernel:0' shape=(18, 128) dtype=float32, numpy=\n",
       " array([[ 0.08741637,  0.03901357, -0.02436684, ...,  0.05843576,\n",
       "         -0.1976082 , -0.01989594],\n",
       "        [ 0.04824211,  0.06388638,  0.06238779, ..., -0.05394014,\n",
       "         -0.11033244, -0.13247944],\n",
       "        [-0.1481234 ,  0.03574055,  0.15751025, ..., -0.10687792,\n",
       "         -0.17564571,  0.06503581],\n",
       "        ...,\n",
       "        [ 0.11388126, -0.01586498, -0.216703  , ...,  0.1619389 ,\n",
       "          0.08358498,  0.03023048],\n",
       "        [-0.15311734,  0.03066356,  0.10868687, ..., -0.00450054,\n",
       "         -0.1428916 , -0.07349779],\n",
       "        [-0.1165907 , -0.24039753, -0.0132036 , ...,  0.01546813,\n",
       "         -0.1801058 ,  0.03769859]], dtype=float32)>,\n",
       " <tf.Variable 'dense_4/bias:0' shape=(128,) dtype=float32, numpy=\n",
       " array([-0.02721531, -0.00275897, -0.0361162 ,  0.02132006, -0.00836291,\n",
       "         0.02813704, -0.01072885, -0.03225298, -0.03390006,  0.00419236,\n",
       "         0.01825466, -0.02368398, -0.03554004,  0.01005574, -0.02702963,\n",
       "        -0.03690303,  0.00490905, -0.02192258,  0.02187427,  0.04649118,\n",
       "         0.03113447,  0.0077869 , -0.01177704, -0.01445298, -0.02522743,\n",
       "         0.02569206,  0.02949528, -0.01312916,  0.00598995, -0.01652545,\n",
       "        -0.02550412,  0.00641003,  0.0153694 ,  0.00368259, -0.01468216,\n",
       "         0.04781941, -0.00186567, -0.04054857, -0.00566098,  0.0059842 ,\n",
       "        -0.00442924,  0.02046193, -0.00379291,  0.02003714,  0.01360249,\n",
       "         0.00535859, -0.05330629, -0.04421785, -0.02743698,  0.03437307,\n",
       "        -0.03812359, -0.03334407,  0.02645873, -0.04237315, -0.03680595,\n",
       "        -0.03158027,  0.01317443, -0.01899723,  0.01227649, -0.02719315,\n",
       "        -0.01464258, -0.04497702, -0.02955684,  0.02364451,  0.00813145,\n",
       "         0.0589992 , -0.01671055,  0.00661193, -0.04490266, -0.0182236 ,\n",
       "         0.00586259, -0.03576393, -0.00077736, -0.0191758 , -0.00104603,\n",
       "        -0.04083491,  0.02303546,  0.01701949,  0.00947951,  0.03393614,\n",
       "        -0.02395061, -0.04318351, -0.00309805,  0.00221072,  0.01667912,\n",
       "         0.00607601,  0.03988888, -0.01273464, -0.00228689,  0.02115803,\n",
       "        -0.00016567, -0.02273584, -0.02353396, -0.02121608,  0.03568742,\n",
       "         0.00167663, -0.00209269, -0.01703834,  0.03053639,  0.00594193,\n",
       "        -0.00842088,  0.02016791, -0.05215473,  0.02811138,  0.02286864,\n",
       "         0.01985528, -0.01283893,  0.00625778, -0.00385523, -0.01669865,\n",
       "        -0.04439564, -0.02518778,  0.02191028, -0.03892949, -0.0212702 ,\n",
       "        -0.02394792, -0.0179165 ,  0.0050984 ,  0.03449148, -0.03253824,\n",
       "         0.00810401, -0.06304807,  0.01625135,  0.02128907, -0.01884586,\n",
       "         0.02038955, -0.00585654,  0.0523029 ], dtype=float32)>,\n",
       " <tf.Variable 'dense_5/kernel:0' shape=(128, 64) dtype=float32, numpy=\n",
       " array([[ 0.10444766,  0.02862353, -0.12397107, ..., -0.05048153,\n",
       "          0.14612633,  0.13032657],\n",
       "        [-0.02002439,  0.16727932, -0.00728855, ..., -0.08655766,\n",
       "          0.0750623 , -0.13930413],\n",
       "        [ 0.13603818, -0.09233492, -0.08157934, ..., -0.05110785,\n",
       "         -0.10461741,  0.03816813],\n",
       "        ...,\n",
       "        [ 0.12892374, -0.11394557, -0.09881058, ..., -0.03292089,\n",
       "          0.06484957,  0.08289573],\n",
       "        [-0.13961649,  0.06126685,  0.08163331, ..., -0.04765843,\n",
       "         -0.10696024,  0.11144925],\n",
       "        [-0.16820367, -0.14839867,  0.01625501, ..., -0.09397419,\n",
       "         -0.13534282,  0.08324087]], dtype=float32)>,\n",
       " <tf.Variable 'dense_5/bias:0' shape=(64,) dtype=float32, numpy=\n",
       " array([-0.02369563, -0.02663927,  0.03476498, -0.02036649,  0.0470032 ,\n",
       "         0.01714765,  0.0354569 , -0.02389354,  0.00467089,  0.01892347,\n",
       "        -0.0356621 ,  0.03404542,  0.03639645, -0.00711901,  0.03917639,\n",
       "        -0.02931264,  0.02683762,  0.03616709, -0.02690222, -0.02602701,\n",
       "         0.03142282,  0.0182721 ,  0.0372493 ,  0.0055326 , -0.03348622,\n",
       "         0.04137347,  0.03423153,  0.02791003,  0.0224675 , -0.03114536,\n",
       "        -0.03296663, -0.0264969 , -0.033973  , -0.00877292, -0.01721169,\n",
       "        -0.00912682,  0.01464321,  0.02218756,  0.0322542 ,  0.01374613,\n",
       "         0.03558091, -0.02573681, -0.01096499,  0.0329587 , -0.009211  ,\n",
       "        -0.03451889,  0.0369688 , -0.03931111, -0.0308527 ,  0.0243004 ,\n",
       "        -0.02021154, -0.02228893, -0.02761598, -0.03825466,  0.03722891,\n",
       "        -0.00639264,  0.02285738,  0.04617419,  0.04558786,  0.04676696,\n",
       "         0.02701592, -0.02228528,  0.01105934,  0.02849577], dtype=float32)>,\n",
       " <tf.Variable 'dense_6/kernel:0' shape=(64, 1) dtype=float32, numpy=\n",
       " array([[-0.17374387],\n",
       "        [-0.25343892],\n",
       "        [ 0.17575155],\n",
       "        [-0.06510781],\n",
       "        [ 0.04302411],\n",
       "        [ 0.2496604 ],\n",
       "        [ 0.22818653],\n",
       "        [-0.02456118],\n",
       "        [ 0.1166698 ],\n",
       "        [ 0.05586948],\n",
       "        [-0.03148359],\n",
       "        [ 0.25663626],\n",
       "        [ 0.18578096],\n",
       "        [-0.19109674],\n",
       "        [ 0.1493153 ],\n",
       "        [-0.21518753],\n",
       "        [ 0.10021544],\n",
       "        [ 0.08025262],\n",
       "        [-0.21507488],\n",
       "        [-0.08587052],\n",
       "        [ 0.06699442],\n",
       "        [ 0.04823308],\n",
       "        [ 0.14391544],\n",
       "        [ 0.24061503],\n",
       "        [-0.01201866],\n",
       "        [ 0.07064831],\n",
       "        [ 0.1601828 ],\n",
       "        [ 0.05500152],\n",
       "        [ 0.20846866],\n",
       "        [-0.10679931],\n",
       "        [-0.22092013],\n",
       "        [-0.23967567],\n",
       "        [-0.01077953],\n",
       "        [-0.00035031],\n",
       "        [-0.09212159],\n",
       "        [-0.23985404],\n",
       "        [ 0.17710856],\n",
       "        [ 0.1730585 ],\n",
       "        [ 0.2183163 ],\n",
       "        [ 0.21321005],\n",
       "        [ 0.07655298],\n",
       "        [-0.1812505 ],\n",
       "        [-0.14248124],\n",
       "        [ 0.19633736],\n",
       "        [-0.25914243],\n",
       "        [-0.27900887],\n",
       "        [ 0.06553914],\n",
       "        [-0.13625437],\n",
       "        [-0.2269854 ],\n",
       "        [ 0.09297593],\n",
       "        [-0.12383416],\n",
       "        [-0.09517062],\n",
       "        [-0.24937062],\n",
       "        [-0.02481999],\n",
       "        [ 0.02586368],\n",
       "        [-0.14952333],\n",
       "        [ 0.06894637],\n",
       "        [ 0.10614205],\n",
       "        [ 0.08791625],\n",
       "        [ 0.14502195],\n",
       "        [ 0.02625125],\n",
       "        [-0.2971276 ],\n",
       "        [ 0.16623054],\n",
       "        [ 0.21427071]], dtype=float32)>,\n",
       " <tf.Variable 'dense_6/bias:0' shape=(1,) dtype=float32, numpy=array([0.03647611], dtype=float32)>]"
      ]
     },
     "execution_count": 11,
     "metadata": {},
     "output_type": "execute_result"
    }
   ],
   "source": [
    "model.weights"
   ]
  },
  {
   "cell_type": "markdown",
   "id": "acf9cad0",
   "metadata": {
    "papermill": {
     "duration": 0.038788,
     "end_time": "2023-05-23T16:06:15.055291",
     "exception": false,
     "start_time": "2023-05-23T16:06:15.016503",
     "status": "completed"
    },
    "tags": []
   },
   "source": [
    "# 4) Train and Interpret\n",
    "\n",
    "Was this an improvement compared to training without early stopping?"
   ]
  },
  {
   "cell_type": "code",
   "execution_count": 12,
   "id": "a1bb75bb",
   "metadata": {
    "execution": {
     "iopub.execute_input": "2023-05-23T16:06:15.134868Z",
     "iopub.status.busy": "2023-05-23T16:06:15.134323Z",
     "iopub.status.idle": "2023-05-23T16:06:15.146558Z",
     "shell.execute_reply": "2023-05-23T16:06:15.145781Z"
    },
    "papermill": {
     "duration": 0.054548,
     "end_time": "2023-05-23T16:06:15.149226",
     "exception": false,
     "start_time": "2023-05-23T16:06:15.094678",
     "status": "completed"
    },
    "tags": []
   },
   "outputs": [
    {
     "data": {
      "application/javascript": [
       "parent.postMessage({\"jupyterEvent\": \"custom.exercise_interaction\", \"data\": {\"outcomeType\": 1, \"valueTowardsCompletion\": 0.25, \"interactionType\": 1, \"questionType\": 4, \"questionId\": \"4_Q4\", \"learnToolsVersion\": \"0.3.4\", \"failureMessage\": \"\", \"exceptionClass\": \"\", \"trace\": \"\"}}, \"*\")"
      ],
      "text/plain": [
       "<IPython.core.display.Javascript object>"
      ]
     },
     "metadata": {},
     "output_type": "display_data"
    },
    {
     "data": {
      "text/markdown": [
       "<span style=\"color:#33cc33\">Correct:</span> \n",
       "\n",
       "The early stopping callback did stop the training once the network began overfitting. Moreover, by including `restore_best_weights` we still get to keep the model where validation loss was lowest."
      ],
      "text/plain": [
       "Correct: \n",
       "\n",
       "The early stopping callback did stop the training once the network began overfitting. Moreover, by including `restore_best_weights` we still get to keep the model where validation loss was lowest."
      ]
     },
     "metadata": {},
     "output_type": "display_data"
    }
   ],
   "source": [
    "# View the solution (Run this cell to receive credit!)\n",
    "q_4.check()"
   ]
  },
  {
   "cell_type": "markdown",
   "id": "c08fe242",
   "metadata": {
    "papermill": {
     "duration": 0.041179,
     "end_time": "2023-05-23T16:06:15.233932",
     "exception": false,
     "start_time": "2023-05-23T16:06:15.192753",
     "status": "completed"
    },
    "tags": []
   },
   "source": [
    "If you like, try experimenting with `patience` and `min_delta` to see what difference it might make.\n",
    "\n",
    "# Keep Going #\n",
    "\n",
    "Move on to [**learn about a couple of special layers**](https://www.kaggle.com/ryanholbrook/dropout-and-batch-normalization): batch normalization and dropout."
   ]
  },
  {
   "cell_type": "markdown",
   "id": "98d32fca",
   "metadata": {
    "papermill": {
     "duration": 0.039497,
     "end_time": "2023-05-23T16:06:15.313899",
     "exception": false,
     "start_time": "2023-05-23T16:06:15.274402",
     "status": "completed"
    },
    "tags": []
   },
   "source": [
    "---\n",
    "\n",
    "\n",
    "\n",
    "\n",
    "*Have questions or comments? Visit the [course discussion forum](https://www.kaggle.com/learn/intro-to-deep-learning/discussion) to chat with other learners.*"
   ]
  }
 ],
 "metadata": {
  "kernelspec": {
   "display_name": "Python 3",
   "language": "python",
   "name": "python3"
  },
  "language_info": {
   "codemirror_mode": {
    "name": "ipython",
    "version": 3
   },
   "file_extension": ".py",
   "mimetype": "text/x-python",
   "name": "python",
   "nbconvert_exporter": "python",
   "pygments_lexer": "ipython3",
   "version": "3.10.10"
  },
  "papermill": {
   "default_parameters": {},
   "duration": 53.72939,
   "end_time": "2023-05-23T16:06:18.410299",
   "environment_variables": {},
   "exception": null,
   "input_path": "__notebook__.ipynb",
   "output_path": "__notebook__.ipynb",
   "parameters": {},
   "start_time": "2023-05-23T16:05:24.680909",
   "version": "2.4.0"
  }
 },
 "nbformat": 4,
 "nbformat_minor": 5
}
