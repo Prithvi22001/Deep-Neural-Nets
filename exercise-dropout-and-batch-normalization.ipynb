{
 "cells": [
  {
   "cell_type": "markdown",
   "id": "023a9036",
   "metadata": {
    "papermill": {
     "duration": 0.007772,
     "end_time": "2023-05-23T18:32:08.695526",
     "exception": false,
     "start_time": "2023-05-23T18:32:08.687754",
     "status": "completed"
    },
    "tags": []
   },
   "source": [
    "**This notebook is an exercise in the [Intro to Deep Learning](https://www.kaggle.com/learn/intro-to-deep-learning) course.  You can reference the tutorial at [this link](https://www.kaggle.com/ryanholbrook/dropout-and-batch-normalization).**\n",
    "\n",
    "---\n"
   ]
  },
  {
   "cell_type": "markdown",
   "id": "2735e85f",
   "metadata": {
    "papermill": {
     "duration": 0.005443,
     "end_time": "2023-05-23T18:32:08.706805",
     "exception": false,
     "start_time": "2023-05-23T18:32:08.701362",
     "status": "completed"
    },
    "tags": []
   },
   "source": [
    "# Introduction #\n",
    "\n",
    "In this exercise, you'll add dropout to the *Spotify* model from Exercise 4 and see how batch normalization can let you successfully train models on difficult datasets.\n",
    "\n",
    "Run the next cell to get started!"
   ]
  },
  {
   "cell_type": "code",
   "execution_count": 1,
   "id": "dc0cc1c5",
   "metadata": {
    "execution": {
     "iopub.execute_input": "2023-05-23T18:32:08.720004Z",
     "iopub.status.busy": "2023-05-23T18:32:08.719479Z",
     "iopub.status.idle": "2023-05-23T18:32:08.760043Z",
     "shell.execute_reply": "2023-05-23T18:32:08.759186Z"
    },
    "papermill": {
     "duration": 0.050077,
     "end_time": "2023-05-23T18:32:08.762582",
     "exception": false,
     "start_time": "2023-05-23T18:32:08.712505",
     "status": "completed"
    },
    "tags": []
   },
   "outputs": [
    {
     "name": "stderr",
     "output_type": "stream",
     "text": [
      "/tmp/ipykernel_23/195640296.py:3: MatplotlibDeprecationWarning: The seaborn styles shipped by Matplotlib are deprecated since 3.6, as they no longer correspond to the styles shipped by seaborn. However, they will remain available as 'seaborn-v0_8-<style>'. Alternatively, directly use the seaborn API instead.\n",
      "  plt.style.use('seaborn-whitegrid')\n"
     ]
    }
   ],
   "source": [
    "# Setup plotting\n",
    "import matplotlib.pyplot as plt\n",
    "plt.style.use('seaborn-whitegrid')\n",
    "# Set Matplotlib defaults\n",
    "plt.rc('figure', autolayout=True)\n",
    "plt.rc('axes', labelweight='bold', labelsize='large',\n",
    "       titleweight='bold', titlesize=18, titlepad=10)\n",
    "plt.rc('animation', html='html5')\n",
    "\n",
    "# Setup feedback system\n",
    "from learntools.core import binder\n",
    "binder.bind(globals())\n",
    "from learntools.deep_learning_intro.ex5 import *"
   ]
  },
  {
   "cell_type": "markdown",
   "id": "e84f5902",
   "metadata": {
    "papermill": {
     "duration": 0.005713,
     "end_time": "2023-05-23T18:32:08.774312",
     "exception": false,
     "start_time": "2023-05-23T18:32:08.768599",
     "status": "completed"
    },
    "tags": []
   },
   "source": [
    "First load the *Spotify* dataset."
   ]
  },
  {
   "cell_type": "code",
   "execution_count": 2,
   "id": "6dced8ee",
   "metadata": {
    "execution": {
     "iopub.execute_input": "2023-05-23T18:32:08.787483Z",
     "iopub.status.busy": "2023-05-23T18:32:08.787191Z",
     "iopub.status.idle": "2023-05-23T18:32:16.610905Z",
     "shell.execute_reply": "2023-05-23T18:32:16.608839Z"
    },
    "papermill": {
     "duration": 7.833252,
     "end_time": "2023-05-23T18:32:16.613286",
     "exception": false,
     "start_time": "2023-05-23T18:32:08.780034",
     "status": "completed"
    },
    "tags": []
   },
   "outputs": [
    {
     "name": "stderr",
     "output_type": "stream",
     "text": [
      "/opt/conda/lib/python3.10/site-packages/scipy/__init__.py:146: UserWarning: A NumPy version >=1.16.5 and <1.23.0 is required for this version of SciPy (detected version 1.23.5\n",
      "  warnings.warn(f\"A NumPy version >={np_minversion} and <{np_maxversion}\"\n"
     ]
    },
    {
     "name": "stdout",
     "output_type": "stream",
     "text": [
      "Input shape: [18]\n"
     ]
    }
   ],
   "source": [
    "import pandas as pd\n",
    "from sklearn.preprocessing import StandardScaler, OneHotEncoder\n",
    "from sklearn.compose import make_column_transformer\n",
    "from sklearn.model_selection import GroupShuffleSplit\n",
    "\n",
    "from tensorflow import keras\n",
    "from tensorflow.keras import layers\n",
    "from tensorflow.keras import callbacks\n",
    "\n",
    "spotify = pd.read_csv('../input/dl-course-data/spotify.csv')\n",
    "\n",
    "X = spotify.copy().dropna()\n",
    "y = X.pop('track_popularity')\n",
    "artists = X['track_artist']\n",
    "\n",
    "features_num = ['danceability', 'energy', 'key', 'loudness', 'mode',\n",
    "                'speechiness', 'acousticness', 'instrumentalness',\n",
    "                'liveness', 'valence', 'tempo', 'duration_ms']\n",
    "features_cat = ['playlist_genre']\n",
    "\n",
    "preprocessor = make_column_transformer(\n",
    "    (StandardScaler(), features_num),\n",
    "    (OneHotEncoder(), features_cat),\n",
    ")\n",
    "\n",
    "def group_split(X, y, group, train_size=0.75):\n",
    "    splitter = GroupShuffleSplit(train_size=train_size)\n",
    "    train, test = next(splitter.split(X, y, groups=group))\n",
    "    return (X.iloc[train], X.iloc[test], y.iloc[train], y.iloc[test])\n",
    "\n",
    "X_train, X_valid, y_train, y_valid = group_split(X, y, artists)\n",
    "\n",
    "X_train = preprocessor.fit_transform(X_train)\n",
    "X_valid = preprocessor.transform(X_valid)\n",
    "y_train = y_train / 100\n",
    "y_valid = y_valid / 100\n",
    "\n",
    "input_shape = [X_train.shape[1]]\n",
    "print(\"Input shape: {}\".format(input_shape))"
   ]
  },
  {
   "cell_type": "markdown",
   "id": "3521e10a",
   "metadata": {
    "papermill": {
     "duration": 0.005816,
     "end_time": "2023-05-23T18:32:16.626228",
     "exception": false,
     "start_time": "2023-05-23T18:32:16.620412",
     "status": "completed"
    },
    "tags": []
   },
   "source": [
    "# 1) Add Dropout to Spotify Model\n",
    "\n",
    "Here is the last model from Exercise 4. Add two dropout layers, one after the `Dense` layer with 128 units, and one after the `Dense` layer with 64 units. Set the dropout rate on both to `0.3`."
   ]
  },
  {
   "cell_type": "code",
   "execution_count": 3,
   "id": "5eff652d",
   "metadata": {
    "execution": {
     "iopub.execute_input": "2023-05-23T18:32:16.640857Z",
     "iopub.status.busy": "2023-05-23T18:32:16.639207Z",
     "iopub.status.idle": "2023-05-23T18:32:19.271364Z",
     "shell.execute_reply": "2023-05-23T18:32:19.270216Z"
    },
    "lines_to_next_cell": 2,
    "papermill": {
     "duration": 2.641713,
     "end_time": "2023-05-23T18:32:19.273833",
     "exception": false,
     "start_time": "2023-05-23T18:32:16.632120",
     "status": "completed"
    },
    "tags": []
   },
   "outputs": [
    {
     "data": {
      "application/javascript": [
       "parent.postMessage({\"jupyterEvent\": \"custom.exercise_interaction\", \"data\": {\"outcomeType\": 1, \"valueTowardsCompletion\": 0.25, \"interactionType\": 1, \"questionType\": 2, \"questionId\": \"1_Q1\", \"learnToolsVersion\": \"0.3.4\", \"failureMessage\": \"\", \"exceptionClass\": \"\", \"trace\": \"\"}}, \"*\")"
      ],
      "text/plain": [
       "<IPython.core.display.Javascript object>"
      ]
     },
     "metadata": {},
     "output_type": "display_data"
    },
    {
     "data": {
      "text/markdown": [
       "<span style=\"color:#33cc33\">Correct</span>"
      ],
      "text/plain": [
       "Correct"
      ]
     },
     "metadata": {},
     "output_type": "display_data"
    }
   ],
   "source": [
    "# YOUR CODE HERE: Add two 30% dropout layers, one after 128 and one after 64\n",
    "model = keras.Sequential([\n",
    "    layers.Dense(128, activation='relu', input_shape=input_shape),\n",
    "    layers.Dropout(0.3),\n",
    "    layers.Dense(64, activation='relu'),\n",
    "    layers.Dropout(0.3),\n",
    "    layers.Dense(1)\n",
    "])\n",
    "\n",
    "# Check your answer\n",
    "q_1.check()"
   ]
  },
  {
   "cell_type": "code",
   "execution_count": 4,
   "id": "786faa80",
   "metadata": {
    "execution": {
     "iopub.execute_input": "2023-05-23T18:32:19.287830Z",
     "iopub.status.busy": "2023-05-23T18:32:19.287549Z",
     "iopub.status.idle": "2023-05-23T18:32:19.291203Z",
     "shell.execute_reply": "2023-05-23T18:32:19.290315Z"
    },
    "papermill": {
     "duration": 0.012817,
     "end_time": "2023-05-23T18:32:19.293240",
     "exception": false,
     "start_time": "2023-05-23T18:32:19.280423",
     "status": "completed"
    },
    "tags": []
   },
   "outputs": [],
   "source": [
    "# Lines below will give you a hint or solution code\n",
    "#q_1.hint()\n",
    "#q_1.solution()"
   ]
  },
  {
   "cell_type": "markdown",
   "id": "53570135",
   "metadata": {
    "papermill": {
     "duration": 0.006032,
     "end_time": "2023-05-23T18:32:19.305542",
     "exception": false,
     "start_time": "2023-05-23T18:32:19.299510",
     "status": "completed"
    },
    "tags": []
   },
   "source": [
    "Now run this next cell to train the model see the effect of adding dropout."
   ]
  },
  {
   "cell_type": "code",
   "execution_count": 5,
   "id": "5a1b31ce",
   "metadata": {
    "execution": {
     "iopub.execute_input": "2023-05-23T18:32:19.319285Z",
     "iopub.status.busy": "2023-05-23T18:32:19.319017Z",
     "iopub.status.idle": "2023-05-23T18:32:32.361019Z",
     "shell.execute_reply": "2023-05-23T18:32:32.360096Z"
    },
    "papermill": {
     "duration": 13.051781,
     "end_time": "2023-05-23T18:32:32.363513",
     "exception": false,
     "start_time": "2023-05-23T18:32:19.311732",
     "status": "completed"
    },
    "tags": []
   },
   "outputs": [
    {
     "name": "stdout",
     "output_type": "stream",
     "text": [
      "Minimum Validation Loss: 0.1926\n"
     ]
    },
    {
     "data": {
      "image/png": "[encoded data removed]",
      "text/plain": [
       "<Figure size 640x480 with 1 Axes>"
      ]
     },
     "metadata": {},
     "output_type": "display_data"
    }
   ],
   "source": [
    "model.compile(\n",
    "    optimizer='adam',\n",
    "    loss='mae',\n",
    ")\n",
    "history = model.fit(\n",
    "    X_train, y_train,\n",
    "    validation_data=(X_valid, y_valid),\n",
    "    batch_size=512,\n",
    "    epochs=50,\n",
    "    verbose=0,\n",
    ")\n",
    "history_df = pd.DataFrame(history.history)\n",
    "history_df.loc[:, ['loss', 'val_loss']].plot()\n",
    "print(\"Minimum Validation Loss: {:0.4f}\".format(history_df['val_loss'].min()))"
   ]
  },
  {
   "cell_type": "markdown",
   "id": "489b56b3",
   "metadata": {
    "papermill": {
     "duration": 0.006701,
     "end_time": "2023-05-23T18:32:32.377137",
     "exception": false,
     "start_time": "2023-05-23T18:32:32.370436",
     "status": "completed"
    },
    "tags": []
   },
   "source": [
    "# 2) Evaluate Dropout\n",
    "\n",
    "Recall from Exercise 4 that this model tended to overfit the data around epoch 5. Did adding dropout seem to help prevent overfitting this time?"
   ]
  },
  {
   "cell_type": "code",
   "execution_count": 6,
   "id": "d23177cd",
   "metadata": {
    "execution": {
     "iopub.execute_input": "2023-05-23T18:32:32.393050Z",
     "iopub.status.busy": "2023-05-23T18:32:32.392743Z",
     "iopub.status.idle": "2023-05-23T18:32:32.401917Z",
     "shell.execute_reply": "2023-05-23T18:32:32.401014Z"
    },
    "papermill": {
     "duration": 0.019153,
     "end_time": "2023-05-23T18:32:32.403972",
     "exception": false,
     "start_time": "2023-05-23T18:32:32.384819",
     "status": "completed"
    },
    "tags": []
   },
   "outputs": [
    {
     "data": {
      "application/javascript": [
       "parent.postMessage({\"jupyterEvent\": \"custom.exercise_interaction\", \"data\": {\"outcomeType\": 1, \"valueTowardsCompletion\": 0.25, \"interactionType\": 1, \"questionType\": 4, \"questionId\": \"2_Q2\", \"learnToolsVersion\": \"0.3.4\", \"failureMessage\": \"\", \"exceptionClass\": \"\", \"trace\": \"\"}}, \"*\")"
      ],
      "text/plain": [
       "<IPython.core.display.Javascript object>"
      ]
     },
     "metadata": {},
     "output_type": "display_data"
    },
    {
     "data": {
      "text/markdown": [
       "<span style=\"color:#33cc33\">Correct:</span> \n",
       "\n",
       "\n",
       "From the learning curves, you can see that the validation loss remains near a constant minimum even though the training loss continues to decrease. So we can see that adding dropout did prevent overfitting this time. Moreover, by making it harder for the network to fit spurious patterns, dropout may have encouraged the network to seek out more of the true patterns, possibly improving the validation loss some as well).\n"
      ],
      "text/plain": [
       "Correct: \n",
       "\n",
       "\n",
       "From the learning curves, you can see that the validation loss remains near a constant minimum even though the training loss continues to decrease. So we can see that adding dropout did prevent overfitting this time. Moreover, by making it harder for the network to fit spurious patterns, dropout may have encouraged the network to seek out more of the true patterns, possibly improving the validation loss some as well)."
      ]
     },
     "metadata": {},
     "output_type": "display_data"
    }
   ],
   "source": [
    "# View the solution (Run this cell to receive credit!)\n",
    "q_2.check()"
   ]
  },
  {
   "cell_type": "markdown",
   "id": "f5a11c30",
   "metadata": {
    "papermill": {
     "duration": 0.006878,
     "end_time": "2023-05-23T18:32:32.417840",
     "exception": false,
     "start_time": "2023-05-23T18:32:32.410962",
     "status": "completed"
    },
    "tags": []
   },
   "source": [
    "Now, we'll switch topics to explore how batch normalization can fix problems in training.\n",
    "\n",
    "Load the *Concrete* dataset. We won't do any standardization this time. This will make the effect of batch normalization much more apparent."
   ]
  },
  {
   "cell_type": "code",
   "execution_count": 7,
   "id": "2319c877",
   "metadata": {
    "execution": {
     "iopub.execute_input": "2023-05-23T18:32:32.433013Z",
     "iopub.status.busy": "2023-05-23T18:32:32.432747Z",
     "iopub.status.idle": "2023-05-23T18:32:32.448223Z",
     "shell.execute_reply": "2023-05-23T18:32:32.447333Z"
    },
    "papermill": {
     "duration": 0.025668,
     "end_time": "2023-05-23T18:32:32.450465",
     "exception": false,
     "start_time": "2023-05-23T18:32:32.424797",
     "status": "completed"
    },
    "tags": []
   },
   "outputs": [],
   "source": [
    "import pandas as pd\n",
    "\n",
    "concrete = pd.read_csv('../input/dl-course-data/concrete.csv')\n",
    "df = concrete.copy()\n",
    "\n",
    "df_train = df.sample(frac=0.7, random_state=0)\n",
    "df_valid = df.drop(df_train.index)\n",
    "\n",
    "X_train = df_train.drop('CompressiveStrength', axis=1)\n",
    "X_valid = df_valid.drop('CompressiveStrength', axis=1)\n",
    "y_train = df_train['CompressiveStrength']\n",
    "y_valid = df_valid['CompressiveStrength']\n",
    "\n",
    "input_shape = [X_train.shape[1]]"
   ]
  },
  {
   "cell_type": "markdown",
   "id": "11c939dc",
   "metadata": {
    "papermill": {
     "duration": 0.007194,
     "end_time": "2023-05-23T18:32:32.465329",
     "exception": false,
     "start_time": "2023-05-23T18:32:32.458135",
     "status": "completed"
    },
    "tags": []
   },
   "source": [
    "Run the following cell to train the network on the unstandardized *Concrete* data."
   ]
  },
  {
   "cell_type": "code",
   "execution_count": 8,
   "id": "bb713661",
   "metadata": {
    "execution": {
     "iopub.execute_input": "2023-05-23T18:32:32.480727Z",
     "iopub.status.busy": "2023-05-23T18:32:32.480451Z",
     "iopub.status.idle": "2023-05-23T18:32:43.803829Z",
     "shell.execute_reply": "2023-05-23T18:32:43.802823Z"
    },
    "papermill": {
     "duration": 11.333407,
     "end_time": "2023-05-23T18:32:43.805976",
     "exception": false,
     "start_time": "2023-05-23T18:32:32.472569",
     "status": "completed"
    },
    "tags": []
   },
   "outputs": [
    {
     "name": "stdout",
     "output_type": "stream",
     "text": [
      "Minimum Validation Loss: nan\n"
     ]
    },
    {
     "data": {
      "image/png": "[encoded data removed]",
      "text/plain": [
       "<Figure size 640x480 with 1 Axes>"
      ]
     },
     "metadata": {},
     "output_type": "display_data"
    }
   ],
   "source": [
    "model = keras.Sequential([\n",
    "    layers.Dense(512, activation='relu', input_shape=input_shape),\n",
    "    layers.Dense(512, activation='relu'),    \n",
    "    layers.Dense(512, activation='relu'),\n",
    "    layers.Dense(1),\n",
    "])\n",
    "model.compile(\n",
    "    optimizer='sgd', # SGD is more sensitive to differences of scale\n",
    "    loss='mae',\n",
    "    metrics=['mae'],\n",
    ")\n",
    "history = model.fit(\n",
    "    X_train, y_train,\n",
    "    validation_data=(X_valid, y_valid),\n",
    "    batch_size=64,\n",
    "    epochs=100,\n",
    "    verbose=0,\n",
    ")\n",
    "\n",
    "history_df = pd.DataFrame(history.history)\n",
    "history_df.loc[0:, ['loss', 'val_loss']].plot()\n",
    "print((\"Minimum Validation Loss: {:0.4f}\").format(history_df['val_loss'].min()))"
   ]
  },
  {
   "cell_type": "markdown",
   "id": "70a6e1d8",
   "metadata": {
    "papermill": {
     "duration": 0.007232,
     "end_time": "2023-05-23T18:32:43.820889",
     "exception": false,
     "start_time": "2023-05-23T18:32:43.813657",
     "status": "completed"
    },
    "tags": []
   },
   "source": [
    "Did you end up with a blank graph? Trying to train this network on this dataset will usually fail. Even when it does converge (due to a lucky weight initialization), it tends to converge to a very large number.\n",
    "\n",
    "# 3) Add Batch Normalization Layers\n",
    "\n",
    "Batch normalization can help correct problems like this.\n",
    "\n",
    "Add four `BatchNormalization` layers, one before each of the dense layers. (Remember to move the `input_shape` argument to the new first layer.)"
   ]
  },
  {
   "cell_type": "code",
   "execution_count": 9,
   "id": "825f0c4a",
   "metadata": {
    "execution": {
     "iopub.execute_input": "2023-05-23T18:32:43.836836Z",
     "iopub.status.busy": "2023-05-23T18:32:43.836557Z",
     "iopub.status.idle": "2023-05-23T18:32:43.943977Z",
     "shell.execute_reply": "2023-05-23T18:32:43.943122Z"
    },
    "lines_to_next_cell": 0,
    "papermill": {
     "duration": 0.117804,
     "end_time": "2023-05-23T18:32:43.946085",
     "exception": false,
     "start_time": "2023-05-23T18:32:43.828281",
     "status": "completed"
    },
    "tags": []
   },
   "outputs": [
    {
     "data": {
      "application/javascript": [
       "parent.postMessage({\"jupyterEvent\": \"custom.exercise_interaction\", \"data\": {\"outcomeType\": 1, \"valueTowardsCompletion\": 0.25, \"interactionType\": 1, \"questionType\": 2, \"questionId\": \"3_Q3\", \"learnToolsVersion\": \"0.3.4\", \"failureMessage\": \"\", \"exceptionClass\": \"\", \"trace\": \"\"}}, \"*\")"
      ],
      "text/plain": [
       "<IPython.core.display.Javascript object>"
      ]
     },
     "metadata": {},
     "output_type": "display_data"
    },
    {
     "data": {
      "text/markdown": [
       "<span style=\"color:#33cc33\">Correct</span>"
      ],
      "text/plain": [
       "Correct"
      ]
     },
     "metadata": {},
     "output_type": "display_data"
    }
   ],
   "source": [
    "# YOUR CODE HERE: Add a BatchNormalization layer before each Dense layer\n",
    "model = keras.Sequential([\n",
    "    layers.BatchNormalization(input_shape=input_shape),\n",
    "    layers.Dense(512, activation='relu'),\n",
    "    layers.BatchNormalization(),\n",
    "    layers.Dense(512, activation='relu'),\n",
    "    layers.BatchNormalization(),\n",
    "    layers.Dense(512, activation='relu'),\n",
    "    layers.BatchNormalization(),\n",
    "    layers.Dense(1),\n",
    "])\n",
    "\n",
    "# Check your answer\n",
    "q_3.check()"
   ]
  },
  {
   "cell_type": "code",
   "execution_count": 10,
   "id": "d037a5be",
   "metadata": {
    "execution": {
     "iopub.execute_input": "2023-05-23T18:32:43.963713Z",
     "iopub.status.busy": "2023-05-23T18:32:43.962156Z",
     "iopub.status.idle": "2023-05-23T18:32:43.966938Z",
     "shell.execute_reply": "2023-05-23T18:32:43.966111Z"
    },
    "papermill": {
     "duration": 0.015417,
     "end_time": "2023-05-23T18:32:43.969054",
     "exception": false,
     "start_time": "2023-05-23T18:32:43.953637",
     "status": "completed"
    },
    "tags": []
   },
   "outputs": [],
   "source": [
    "# Lines below will give you a hint or solution code\n",
    "#q_3.hint()\n",
    "#q_3.solution()"
   ]
  },
  {
   "cell_type": "markdown",
   "id": "5b0f04a6",
   "metadata": {
    "papermill": {
     "duration": 0.007607,
     "end_time": "2023-05-23T18:32:43.984446",
     "exception": false,
     "start_time": "2023-05-23T18:32:43.976839",
     "status": "completed"
    },
    "tags": []
   },
   "source": [
    "Run the next cell to see if batch normalization will let us train the model."
   ]
  },
  {
   "cell_type": "code",
   "execution_count": 11,
   "id": "64348afc",
   "metadata": {
    "execution": {
     "iopub.execute_input": "2023-05-23T18:32:44.000651Z",
     "iopub.status.busy": "2023-05-23T18:32:44.000399Z",
     "iopub.status.idle": "2023-05-23T18:32:54.655199Z",
     "shell.execute_reply": "2023-05-23T18:32:54.654303Z"
    },
    "papermill": {
     "duration": 10.665358,
     "end_time": "2023-05-23T18:32:54.657360",
     "exception": false,
     "start_time": "2023-05-23T18:32:43.992002",
     "status": "completed"
    },
    "tags": []
   },
   "outputs": [
    {
     "name": "stdout",
     "output_type": "stream",
     "text": [
      "Minimum Validation Loss: 4.0397\n"
     ]
    },
    {
     "data": {
      "image/png": "[encoded data removed]",
      "text/plain": [
       "<Figure size 640x480 with 1 Axes>"
      ]
     },
     "metadata": {},
     "output_type": "display_data"
    }
   ],
   "source": [
    "model.compile(\n",
    "    optimizer='sgd',\n",
    "    loss='mae',\n",
    "    metrics=['mae'],\n",
    ")\n",
    "EPOCHS = 100\n",
    "history = model.fit(\n",
    "    X_train, y_train,\n",
    "    validation_data=(X_valid, y_valid),\n",
    "    batch_size=64,\n",
    "    epochs=EPOCHS,\n",
    "    verbose=0,\n",
    ")\n",
    "\n",
    "history_df = pd.DataFrame(history.history)\n",
    "history_df.loc[0:, ['loss', 'val_loss']].plot()\n",
    "print((\"Minimum Validation Loss: {:0.4f}\").format(history_df['val_loss'].min()))"
   ]
  },
  {
   "cell_type": "markdown",
   "id": "425d96f0",
   "metadata": {
    "papermill": {
     "duration": 0.008043,
     "end_time": "2023-05-23T18:32:54.674006",
     "exception": false,
     "start_time": "2023-05-23T18:32:54.665963",
     "status": "completed"
    },
    "tags": []
   },
   "source": [
    "# 4) Evaluate Batch Normalization\n",
    "\n",
    "Did adding batch normalization help?"
   ]
  },
  {
   "cell_type": "code",
   "execution_count": 12,
   "id": "dc69af68",
   "metadata": {
    "execution": {
     "iopub.execute_input": "2023-05-23T18:32:54.693354Z",
     "iopub.status.busy": "2023-05-23T18:32:54.691770Z",
     "iopub.status.idle": "2023-05-23T18:32:54.701150Z",
     "shell.execute_reply": "2023-05-23T18:32:54.700228Z"
    },
    "lines_to_next_cell": 0,
    "papermill": {
     "duration": 0.020815,
     "end_time": "2023-05-23T18:32:54.703214",
     "exception": false,
     "start_time": "2023-05-23T18:32:54.682399",
     "status": "completed"
    },
    "tags": []
   },
   "outputs": [
    {
     "data": {
      "application/javascript": [
       "parent.postMessage({\"jupyterEvent\": \"custom.exercise_interaction\", \"data\": {\"outcomeType\": 1, \"valueTowardsCompletion\": 0.25, \"interactionType\": 1, \"questionType\": 4, \"questionId\": \"4_Q4\", \"learnToolsVersion\": \"0.3.4\", \"failureMessage\": \"\", \"exceptionClass\": \"\", \"trace\": \"\"}}, \"*\")"
      ],
      "text/plain": [
       "<IPython.core.display.Javascript object>"
      ]
     },
     "metadata": {},
     "output_type": "display_data"
    },
    {
     "data": {
      "text/markdown": [
       "<span style=\"color:#33cc33\">Correct:</span> \n",
       "\n",
       "\n",
       "You can see that adding batch normalization was a big improvement on the first attempt! By adaptively scaling the data as it passes through the network, batch normalization can let you train models on difficult datasets.\n"
      ],
      "text/plain": [
       "Correct: \n",
       "\n",
       "\n",
       "You can see that adding batch normalization was a big improvement on the first attempt! By adaptively scaling the data as it passes through the network, batch normalization can let you train models on difficult datasets."
      ]
     },
     "metadata": {},
     "output_type": "display_data"
    }
   ],
   "source": [
    "# View the solution (Run this cell to receive credit!)\n",
    "q_4.check()"
   ]
  },
  {
   "cell_type": "markdown",
   "id": "02ddf6bf",
   "metadata": {
    "papermill": {
     "duration": 0.00833,
     "end_time": "2023-05-23T18:32:54.720082",
     "exception": false,
     "start_time": "2023-05-23T18:32:54.711752",
     "status": "completed"
    },
    "tags": []
   },
   "source": [
    "# Keep Going #\n",
    "\n",
    "[**Create neural networks**](https://www.kaggle.com/ryanholbrook/binary-classification) for binary classification."
   ]
  },
  {
   "cell_type": "markdown",
   "id": "4e260aff",
   "metadata": {
    "papermill": {
     "duration": 0.008252,
     "end_time": "2023-05-23T18:32:54.736874",
     "exception": false,
     "start_time": "2023-05-23T18:32:54.728622",
     "status": "completed"
    },
    "tags": []
   },
   "source": [
    "---\n",
    "\n",
    "\n",
    "\n",
    "\n",
    "*Have questions or comments? Visit the [course discussion forum](https://www.kaggle.com/learn/intro-to-deep-learning/discussion) to chat with other learners.*"
   ]
  }
 ],
 "metadata": {
  "kernelspec": {
   "display_name": "Python 3",
   "language": "python",
   "name": "python3"
  },
  "language_info": {
   "codemirror_mode": {
    "name": "ipython",
    "version": 3
   },
   "file_extension": ".py",
   "mimetype": "text/x-python",
   "name": "python",
   "nbconvert_exporter": "python",
   "pygments_lexer": "ipython3",
   "version": "3.10.10"
  },
  "papermill": {
   "default_parameters": {},
   "duration": 59.705625,
   "end_time": "2023-05-23T18:32:57.525879",
   "environment_variables": {},
   "exception": null,
   "input_path": "__notebook__.ipynb",
   "output_path": "__notebook__.ipynb",
   "parameters": {},
   "start_time": "2023-05-23T18:31:57.820254",
   "version": "2.4.0"
  }
 },
 "nbformat": 4,
 "nbformat_minor": 5
}
